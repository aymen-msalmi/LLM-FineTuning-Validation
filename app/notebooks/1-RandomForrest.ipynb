{
 "cells": [
  {
   "cell_type": "markdown",
   "id": "86ea1b07-0664-4b56-a038-47a1a2671ec6",
   "metadata": {},
   "source": [
    "# Imports"
   ]
  },
  {
   "cell_type": "code",
   "execution_count": 3,
   "id": "0cccab8e-8256-4bca-9acd-586cac42c8a5",
   "metadata": {},
   "outputs": [],
   "source": [
    "import pandas as pd\n",
    "import numpy as np\n",
    "import matplotlib.pyplot as plt\n",
    "import seaborn as sns\n",
    "import string\n",
    "plt.style.use('ggplot')\n",
    "\n",
    "import nltk\n",
    "from nltk.corpus import stopwords\n",
    "\n",
    "from nltk.tokenize import word_tokenize\n",
    "from nltk.sentiment import SentimentIntensityAnalyzer\n",
    "from tqdm.notebook import tqdm\n",
    "\n",
    "from nltk.stem import PorterStemmer\n",
    "stemmer = PorterStemmer()\n",
    "sia = SentimentIntensityAnalyzer()\n",
    "\n",
    "from sklearn.model_selection import train_test_split\n",
    "from sklearn.ensemble import RandomForestClassifier\n"
   ]
  },
  {
   "cell_type": "code",
   "execution_count": 6,
   "id": "5b539d0d-5465-4495-b394-c4038d566706",
   "metadata": {},
   "outputs": [
    {
     "name": "stdout",
     "output_type": "stream",
     "text": [
      "(568454, 10)\n"
     ]
    }
   ],
   "source": [
    "# Read in data\n",
    "data = pd.read_csv('../datasets/Reviews.csv')\n",
    "print(data.shape)\n"
   ]
  },
  {
   "cell_type": "code",
   "execution_count": 3,
   "id": "bdeea9c9-e341-43fb-8c7b-566c4d64ecec",
   "metadata": {},
   "outputs": [
    {
     "name": "stdout",
     "output_type": "stream",
     "text": [
      "(25000, 3)\n"
     ]
    }
   ],
   "source": [
    "# Create a new DataFrame with only the 'Score' column\n",
    "score_df = data[['Id','Score','Text']]\n",
    "\n",
    "# Group by 'Score' and limit the number of rows to 100 for each group\n",
    "test_data = score_df.groupby('Score').head(5000)\n",
    "\n",
    "# Print the shape of the balanced DataFrame\n",
    "print(test_data.shape)"
   ]
  },
  {
   "cell_type": "code",
   "execution_count": 4,
   "id": "34f5546e-9009-4147-93ba-d8b233c02587",
   "metadata": {},
   "outputs": [
    {
     "data": {
      "text/html": [
       "<div>\n",
       "<style scoped>\n",
       "    .dataframe tbody tr th:only-of-type {\n",
       "        vertical-align: middle;\n",
       "    }\n",
       "\n",
       "    .dataframe tbody tr th {\n",
       "        vertical-align: top;\n",
       "    }\n",
       "\n",
       "    .dataframe thead th {\n",
       "        text-align: right;\n",
       "    }\n",
       "</style>\n",
       "<table border=\"1\" class=\"dataframe\">\n",
       "  <thead>\n",
       "    <tr style=\"text-align: right;\">\n",
       "      <th></th>\n",
       "      <th>Id</th>\n",
       "      <th>Score</th>\n",
       "      <th>Text</th>\n",
       "    </tr>\n",
       "  </thead>\n",
       "  <tbody>\n",
       "    <tr>\n",
       "      <th>0</th>\n",
       "      <td>1</td>\n",
       "      <td>5</td>\n",
       "      <td>I have bought several of the Vitality canned d...</td>\n",
       "    </tr>\n",
       "    <tr>\n",
       "      <th>1</th>\n",
       "      <td>2</td>\n",
       "      <td>1</td>\n",
       "      <td>Product arrived labeled as Jumbo Salted Peanut...</td>\n",
       "    </tr>\n",
       "    <tr>\n",
       "      <th>2</th>\n",
       "      <td>3</td>\n",
       "      <td>4</td>\n",
       "      <td>This is a confection that has been around a fe...</td>\n",
       "    </tr>\n",
       "    <tr>\n",
       "      <th>3</th>\n",
       "      <td>4</td>\n",
       "      <td>2</td>\n",
       "      <td>If you are looking for the secret ingredient i...</td>\n",
       "    </tr>\n",
       "    <tr>\n",
       "      <th>4</th>\n",
       "      <td>5</td>\n",
       "      <td>5</td>\n",
       "      <td>Great taffy at a great price.  There was a wid...</td>\n",
       "    </tr>\n",
       "  </tbody>\n",
       "</table>\n",
       "</div>"
      ],
      "text/plain": [
       "   Id  Score                                               Text\n",
       "0   1      5  I have bought several of the Vitality canned d...\n",
       "1   2      1  Product arrived labeled as Jumbo Salted Peanut...\n",
       "2   3      4  This is a confection that has been around a fe...\n",
       "3   4      2  If you are looking for the secret ingredient i...\n",
       "4   5      5  Great taffy at a great price.  There was a wid..."
      ]
     },
     "execution_count": 4,
     "metadata": {},
     "output_type": "execute_result"
    }
   ],
   "source": [
    "test_data.head()"
   ]
  },
  {
   "cell_type": "code",
   "execution_count": 5,
   "id": "40bbd968-8298-42bb-96ec-cdbbc62d3379",
   "metadata": {},
   "outputs": [
    {
     "data": {
      "text/plain": [
       "'!\"#$%&\\'()*+,-./:;<=>?@[\\\\]^_`{|}~'"
      ]
     },
     "execution_count": 5,
     "metadata": {},
     "output_type": "execute_result"
    }
   ],
   "source": [
    "import string\n",
    "string.punctuation"
   ]
  },
  {
   "cell_type": "code",
   "execution_count": 6,
   "id": "90e3f7e3-936e-4308-be88-906cde5b408c",
   "metadata": {},
   "outputs": [],
   "source": [
    "def remove_punct(text):\n",
    "    text_no_punct = \"\".join([char for char in text if char not in string.punctuation])\n",
    "    return text_no_punct\n",
    "    "
   ]
  },
  {
   "cell_type": "code",
   "execution_count": 7,
   "id": "9e3d2e1d-54a4-4069-8e06-7067b9b47346",
   "metadata": {},
   "outputs": [
    {
     "data": {
      "text/plain": [
       "Index(['Id', 'Score', 'Text'], dtype='object')"
      ]
     },
     "execution_count": 7,
     "metadata": {},
     "output_type": "execute_result"
    }
   ],
   "source": [
    "test_data.columns"
   ]
  },
  {
   "cell_type": "code",
   "execution_count": 8,
   "id": "c233f902-8dd4-439e-b9d4-7d725c7cb309",
   "metadata": {},
   "outputs": [],
   "source": [
    "df = test_data.copy()\n",
    "df['nopunct_text'] = df['Text'].apply(lambda x: remove_punct(x.lower()))\n"
   ]
  },
  {
   "cell_type": "code",
   "execution_count": 9,
   "id": "0ebea38b-d241-4a58-ba95-ff90d38e2b1f",
   "metadata": {},
   "outputs": [
    {
     "data": {
      "text/plain": [
       "Text            The mouth says, \"How do I love thee, let me co...\n",
       "nopunct_text    the mouth says how do i love thee let me count...\n",
       "Name: 100, dtype: object"
      ]
     },
     "execution_count": 9,
     "metadata": {},
     "output_type": "execute_result"
    }
   ],
   "source": [
    "df.loc[100, ['Text', 'nopunct_text']]"
   ]
  },
  {
   "cell_type": "code",
   "execution_count": 10,
   "id": "b04e559b-d643-4fd7-bd14-08074c3c3d69",
   "metadata": {},
   "outputs": [],
   "source": [
    "#3.2 tokenization\n",
    "from nltk.tokenize import word_tokenize"
   ]
  },
  {
   "cell_type": "code",
   "execution_count": 11,
   "id": "787907dd-09df-4bc8-afc7-95d73d4a091c",
   "metadata": {},
   "outputs": [],
   "source": [
    "def tokenize(text):\n",
    "    tokens = word_tokenize(text)\n",
    "    return tokens\n"
   ]
  },
  {
   "cell_type": "code",
   "execution_count": 12,
   "id": "dc52bd7a-c4f1-408d-b7da-1fd55b6dd95e",
   "metadata": {},
   "outputs": [],
   "source": [
    "df['text_tokenized'] = df['nopunct_text'].apply(lambda x: tokenize(x))"
   ]
  },
  {
   "cell_type": "code",
   "execution_count": 13,
   "id": "f1d0b736-d7f1-45a3-91db-a65209e6a849",
   "metadata": {},
   "outputs": [
    {
     "data": {
      "text/html": [
       "<div>\n",
       "<style scoped>\n",
       "    .dataframe tbody tr th:only-of-type {\n",
       "        vertical-align: middle;\n",
       "    }\n",
       "\n",
       "    .dataframe tbody tr th {\n",
       "        vertical-align: top;\n",
       "    }\n",
       "\n",
       "    .dataframe thead th {\n",
       "        text-align: right;\n",
       "    }\n",
       "</style>\n",
       "<table border=\"1\" class=\"dataframe\">\n",
       "  <thead>\n",
       "    <tr style=\"text-align: right;\">\n",
       "      <th></th>\n",
       "      <th>Text</th>\n",
       "      <th>nopunct_text</th>\n",
       "      <th>text_tokenized</th>\n",
       "    </tr>\n",
       "  </thead>\n",
       "  <tbody>\n",
       "    <tr>\n",
       "      <th>100</th>\n",
       "      <td>The mouth says, \"How do I love thee, let me co...</td>\n",
       "      <td>the mouth says how do i love thee let me count...</td>\n",
       "      <td>[the, mouth, says, how, do, i, love, thee, let...</td>\n",
       "    </tr>\n",
       "    <tr>\n",
       "      <th>101</th>\n",
       "      <td>Arrived slightly thawed. My parents wouldn't a...</td>\n",
       "      <td>arrived slightly thawed my parents wouldnt acc...</td>\n",
       "      <td>[arrived, slightly, thawed, my, parents, would...</td>\n",
       "    </tr>\n",
       "  </tbody>\n",
       "</table>\n",
       "</div>"
      ],
      "text/plain": [
       "                                                  Text  \\\n",
       "100  The mouth says, \"How do I love thee, let me co...   \n",
       "101  Arrived slightly thawed. My parents wouldn't a...   \n",
       "\n",
       "                                          nopunct_text  \\\n",
       "100  the mouth says how do i love thee let me count...   \n",
       "101  arrived slightly thawed my parents wouldnt acc...   \n",
       "\n",
       "                                        text_tokenized  \n",
       "100  [the, mouth, says, how, do, i, love, thee, let...  \n",
       "101  [arrived, slightly, thawed, my, parents, would...  "
      ]
     },
     "execution_count": 13,
     "metadata": {},
     "output_type": "execute_result"
    }
   ],
   "source": [
    "df.loc[[100,101], ['Text','nopunct_text','text_tokenized']]"
   ]
  },
  {
   "cell_type": "code",
   "execution_count": 14,
   "id": "10051b63-181a-42ad-9919-942fe2e3770d",
   "metadata": {},
   "outputs": [],
   "source": [
    "stopWords_En = nltk.corpus.stopwords.words('english')"
   ]
  },
  {
   "cell_type": "code",
   "execution_count": 15,
   "id": "3d82ae3d-bc75-408c-a78e-cfd512beb4ef",
   "metadata": {},
   "outputs": [],
   "source": [
    "def remove_stopwords(tokenized_list):\n",
    "    text = [word for word in tokenized_list if word not in stopWords_En]\n",
    "    return text "
   ]
  },
  {
   "cell_type": "code",
   "execution_count": 16,
   "id": "7d77e51f-59e5-45f5-9e94-982a5df13e4c",
   "metadata": {},
   "outputs": [],
   "source": [
    "df['text_tokenized_without_stopword'] = df['text_tokenized'].apply(lambda x: remove_stopwords(x))"
   ]
  },
  {
   "cell_type": "code",
   "execution_count": 17,
   "id": "8223b970-30d5-438e-be3d-4c8284d4ab8a",
   "metadata": {},
   "outputs": [
    {
     "data": {
      "text/html": [
       "<div>\n",
       "<style scoped>\n",
       "    .dataframe tbody tr th:only-of-type {\n",
       "        vertical-align: middle;\n",
       "    }\n",
       "\n",
       "    .dataframe tbody tr th {\n",
       "        vertical-align: top;\n",
       "    }\n",
       "\n",
       "    .dataframe thead th {\n",
       "        text-align: right;\n",
       "    }\n",
       "</style>\n",
       "<table border=\"1\" class=\"dataframe\">\n",
       "  <thead>\n",
       "    <tr style=\"text-align: right;\">\n",
       "      <th></th>\n",
       "      <th>Text</th>\n",
       "      <th>nopunct_text</th>\n",
       "      <th>text_tokenized</th>\n",
       "      <th>text_tokenized_without_stopword</th>\n",
       "    </tr>\n",
       "  </thead>\n",
       "  <tbody>\n",
       "    <tr>\n",
       "      <th>100</th>\n",
       "      <td>The mouth says, \"How do I love thee, let me co...</td>\n",
       "      <td>the mouth says how do i love thee let me count...</td>\n",
       "      <td>[the, mouth, says, how, do, i, love, thee, let...</td>\n",
       "      <td>[mouth, says, love, thee, let, count, waysbr, ...</td>\n",
       "    </tr>\n",
       "    <tr>\n",
       "      <th>101</th>\n",
       "      <td>Arrived slightly thawed. My parents wouldn't a...</td>\n",
       "      <td>arrived slightly thawed my parents wouldnt acc...</td>\n",
       "      <td>[arrived, slightly, thawed, my, parents, would...</td>\n",
       "      <td>[arrived, slightly, thawed, parents, wouldnt, ...</td>\n",
       "    </tr>\n",
       "  </tbody>\n",
       "</table>\n",
       "</div>"
      ],
      "text/plain": [
       "                                                  Text  \\\n",
       "100  The mouth says, \"How do I love thee, let me co...   \n",
       "101  Arrived slightly thawed. My parents wouldn't a...   \n",
       "\n",
       "                                          nopunct_text  \\\n",
       "100  the mouth says how do i love thee let me count...   \n",
       "101  arrived slightly thawed my parents wouldnt acc...   \n",
       "\n",
       "                                        text_tokenized  \\\n",
       "100  [the, mouth, says, how, do, i, love, thee, let...   \n",
       "101  [arrived, slightly, thawed, my, parents, would...   \n",
       "\n",
       "                       text_tokenized_without_stopword  \n",
       "100  [mouth, says, love, thee, let, count, waysbr, ...  \n",
       "101  [arrived, slightly, thawed, parents, wouldnt, ...  "
      ]
     },
     "execution_count": 17,
     "metadata": {},
     "output_type": "execute_result"
    }
   ],
   "source": [
    "df.loc[[100,101], ['Text','nopunct_text','text_tokenized','text_tokenized_without_stopword']]"
   ]
  },
  {
   "cell_type": "code",
   "execution_count": 18,
   "id": "4475db6d-0a82-47d9-901a-cc757c008a55",
   "metadata": {},
   "outputs": [
    {
     "data": {
      "text/html": [
       "<div>\n",
       "<style scoped>\n",
       "    .dataframe tbody tr th:only-of-type {\n",
       "        vertical-align: middle;\n",
       "    }\n",
       "\n",
       "    .dataframe tbody tr th {\n",
       "        vertical-align: top;\n",
       "    }\n",
       "\n",
       "    .dataframe thead th {\n",
       "        text-align: right;\n",
       "    }\n",
       "</style>\n",
       "<table border=\"1\" class=\"dataframe\">\n",
       "  <thead>\n",
       "    <tr style=\"text-align: right;\">\n",
       "      <th></th>\n",
       "      <th>Id</th>\n",
       "      <th>Score</th>\n",
       "      <th>Text</th>\n",
       "      <th>nopunct_text</th>\n",
       "      <th>text_tokenized</th>\n",
       "      <th>text_tokenized_without_stopword</th>\n",
       "    </tr>\n",
       "  </thead>\n",
       "  <tbody>\n",
       "    <tr>\n",
       "      <th>0</th>\n",
       "      <td>1</td>\n",
       "      <td>5</td>\n",
       "      <td>I have bought several of the Vitality canned d...</td>\n",
       "      <td>i have bought several of the vitality canned d...</td>\n",
       "      <td>[i, have, bought, several, of, the, vitality, ...</td>\n",
       "      <td>[bought, several, vitality, canned, dog, food,...</td>\n",
       "    </tr>\n",
       "    <tr>\n",
       "      <th>1</th>\n",
       "      <td>2</td>\n",
       "      <td>1</td>\n",
       "      <td>Product arrived labeled as Jumbo Salted Peanut...</td>\n",
       "      <td>product arrived labeled as jumbo salted peanut...</td>\n",
       "      <td>[product, arrived, labeled, as, jumbo, salted,...</td>\n",
       "      <td>[product, arrived, labeled, jumbo, salted, pea...</td>\n",
       "    </tr>\n",
       "    <tr>\n",
       "      <th>2</th>\n",
       "      <td>3</td>\n",
       "      <td>4</td>\n",
       "      <td>This is a confection that has been around a fe...</td>\n",
       "      <td>this is a confection that has been around a fe...</td>\n",
       "      <td>[this, is, a, confection, that, has, been, aro...</td>\n",
       "      <td>[confection, around, centuries, light, pillowy...</td>\n",
       "    </tr>\n",
       "    <tr>\n",
       "      <th>3</th>\n",
       "      <td>4</td>\n",
       "      <td>2</td>\n",
       "      <td>If you are looking for the secret ingredient i...</td>\n",
       "      <td>if you are looking for the secret ingredient i...</td>\n",
       "      <td>[if, you, are, looking, for, the, secret, ingr...</td>\n",
       "      <td>[looking, secret, ingredient, robitussin, beli...</td>\n",
       "    </tr>\n",
       "    <tr>\n",
       "      <th>4</th>\n",
       "      <td>5</td>\n",
       "      <td>5</td>\n",
       "      <td>Great taffy at a great price.  There was a wid...</td>\n",
       "      <td>great taffy at a great price  there was a wide...</td>\n",
       "      <td>[great, taffy, at, a, great, price, there, was...</td>\n",
       "      <td>[great, taffy, great, price, wide, assortment,...</td>\n",
       "    </tr>\n",
       "  </tbody>\n",
       "</table>\n",
       "</div>"
      ],
      "text/plain": [
       "   Id  Score                                               Text  \\\n",
       "0   1      5  I have bought several of the Vitality canned d...   \n",
       "1   2      1  Product arrived labeled as Jumbo Salted Peanut...   \n",
       "2   3      4  This is a confection that has been around a fe...   \n",
       "3   4      2  If you are looking for the secret ingredient i...   \n",
       "4   5      5  Great taffy at a great price.  There was a wid...   \n",
       "\n",
       "                                        nopunct_text  \\\n",
       "0  i have bought several of the vitality canned d...   \n",
       "1  product arrived labeled as jumbo salted peanut...   \n",
       "2  this is a confection that has been around a fe...   \n",
       "3  if you are looking for the secret ingredient i...   \n",
       "4  great taffy at a great price  there was a wide...   \n",
       "\n",
       "                                      text_tokenized  \\\n",
       "0  [i, have, bought, several, of, the, vitality, ...   \n",
       "1  [product, arrived, labeled, as, jumbo, salted,...   \n",
       "2  [this, is, a, confection, that, has, been, aro...   \n",
       "3  [if, you, are, looking, for, the, secret, ingr...   \n",
       "4  [great, taffy, at, a, great, price, there, was...   \n",
       "\n",
       "                     text_tokenized_without_stopword  \n",
       "0  [bought, several, vitality, canned, dog, food,...  \n",
       "1  [product, arrived, labeled, jumbo, salted, pea...  \n",
       "2  [confection, around, centuries, light, pillowy...  \n",
       "3  [looking, secret, ingredient, robitussin, beli...  \n",
       "4  [great, taffy, great, price, wide, assortment,...  "
      ]
     },
     "execution_count": 18,
     "metadata": {},
     "output_type": "execute_result"
    }
   ],
   "source": [
    "df.head()"
   ]
  },
  {
   "cell_type": "code",
   "execution_count": 29,
   "id": "814d9b7b-20b4-409c-8e9c-96137f24b4d5",
   "metadata": {},
   "outputs": [],
   "source": [
    "# 3.4 -  Steamming\n",
    "def steamming(tokenized_text):\n",
    "    text= [stemmer.stem(word) for word in tokenized_text]\n",
    "    return text"
   ]
  },
  {
   "cell_type": "code",
   "execution_count": 30,
   "id": "506d3bde-99a2-4f6f-a0d0-ca3f705e9332",
   "metadata": {},
   "outputs": [],
   "source": [
    "df['text_stemmed'] = df['text_tokenized_without_stopword'].apply(lambda x: steamming(x))"
   ]
  },
  {
   "cell_type": "code",
   "execution_count": 34,
   "id": "abaab147-6e72-4530-816e-49890e04bb39",
   "metadata": {},
   "outputs": [
    {
     "data": {
      "text/html": [
       "<div>\n",
       "<style scoped>\n",
       "    .dataframe tbody tr th:only-of-type {\n",
       "        vertical-align: middle;\n",
       "    }\n",
       "\n",
       "    .dataframe tbody tr th {\n",
       "        vertical-align: top;\n",
       "    }\n",
       "\n",
       "    .dataframe thead th {\n",
       "        text-align: right;\n",
       "    }\n",
       "</style>\n",
       "<table border=\"1\" class=\"dataframe\">\n",
       "  <thead>\n",
       "    <tr style=\"text-align: right;\">\n",
       "      <th></th>\n",
       "      <th>Text</th>\n",
       "      <th>nopunct_text</th>\n",
       "      <th>text_tokenized</th>\n",
       "      <th>text_tokenized_without_stopword</th>\n",
       "      <th>text_stemmed</th>\n",
       "    </tr>\n",
       "  </thead>\n",
       "  <tbody>\n",
       "    <tr>\n",
       "      <th>100</th>\n",
       "      <td>The mouth says, \"How do I love thee, let me co...</td>\n",
       "      <td>the mouth says how do i love thee let me count...</td>\n",
       "      <td>[the, mouth, says, how, do, i, love, thee, let...</td>\n",
       "      <td>[mouth, says, love, thee, let, count, waysbr, ...</td>\n",
       "      <td>[mouth, say, love, thee, let, count, waysbr, l...</td>\n",
       "    </tr>\n",
       "    <tr>\n",
       "      <th>101</th>\n",
       "      <td>Arrived slightly thawed. My parents wouldn't a...</td>\n",
       "      <td>arrived slightly thawed my parents wouldnt acc...</td>\n",
       "      <td>[arrived, slightly, thawed, my, parents, would...</td>\n",
       "      <td>[arrived, slightly, thawed, parents, wouldnt, ...</td>\n",
       "      <td>[arriv, slightli, thaw, parent, wouldnt, accep...</td>\n",
       "    </tr>\n",
       "  </tbody>\n",
       "</table>\n",
       "</div>"
      ],
      "text/plain": [
       "                                                  Text  \\\n",
       "100  The mouth says, \"How do I love thee, let me co...   \n",
       "101  Arrived slightly thawed. My parents wouldn't a...   \n",
       "\n",
       "                                          nopunct_text  \\\n",
       "100  the mouth says how do i love thee let me count...   \n",
       "101  arrived slightly thawed my parents wouldnt acc...   \n",
       "\n",
       "                                        text_tokenized  \\\n",
       "100  [the, mouth, says, how, do, i, love, thee, let...   \n",
       "101  [arrived, slightly, thawed, my, parents, would...   \n",
       "\n",
       "                       text_tokenized_without_stopword  \\\n",
       "100  [mouth, says, love, thee, let, count, waysbr, ...   \n",
       "101  [arrived, slightly, thawed, parents, wouldnt, ...   \n",
       "\n",
       "                                          text_stemmed  \n",
       "100  [mouth, say, love, thee, let, count, waysbr, l...  \n",
       "101  [arriv, slightli, thaw, parent, wouldnt, accep...  "
      ]
     },
     "execution_count": 34,
     "metadata": {},
     "output_type": "execute_result"
    }
   ],
   "source": [
    "df.loc[[100,101], ['Text','nopunct_text','text_tokenized','text_tokenized_without_stopword','text_stemmed']]"
   ]
  },
  {
   "cell_type": "code",
   "execution_count": 35,
   "id": "c9e77a3d-8ef8-4532-99db-7773216476b0",
   "metadata": {},
   "outputs": [],
   "source": [
    "# 3.4 -  lemmetization\n",
    "lm =nltk.WordNetLemmatizer()"
   ]
  },
  {
   "cell_type": "code",
   "execution_count": 36,
   "id": "26fe20b3-103a-4b83-a173-f761376d81bf",
   "metadata": {},
   "outputs": [],
   "source": [
    "def lemmitizing(tokenized_text):\n",
    "    text= [lm.lemmatize(word) for word in tokenized_text]\n",
    "    return text"
   ]
  },
  {
   "cell_type": "code",
   "execution_count": 37,
   "id": "9eccb0a2-37e7-4b61-8d29-53819a15a542",
   "metadata": {},
   "outputs": [],
   "source": [
    "df['text_lemmetized'] = df['text_tokenized_without_stopword'].apply(lambda x: lemmitizing(x))"
   ]
  },
  {
   "cell_type": "code",
   "execution_count": 38,
   "id": "9cdf78e5-51ca-4ac7-9769-4752299d8a38",
   "metadata": {},
   "outputs": [
    {
     "data": {
      "text/html": [
       "<div>\n",
       "<style scoped>\n",
       "    .dataframe tbody tr th:only-of-type {\n",
       "        vertical-align: middle;\n",
       "    }\n",
       "\n",
       "    .dataframe tbody tr th {\n",
       "        vertical-align: top;\n",
       "    }\n",
       "\n",
       "    .dataframe thead th {\n",
       "        text-align: right;\n",
       "    }\n",
       "</style>\n",
       "<table border=\"1\" class=\"dataframe\">\n",
       "  <thead>\n",
       "    <tr style=\"text-align: right;\">\n",
       "      <th></th>\n",
       "      <th>Text</th>\n",
       "      <th>nopunct_text</th>\n",
       "      <th>text_tokenized</th>\n",
       "      <th>text_tokenized_without_stopword</th>\n",
       "      <th>text_lemmetized</th>\n",
       "    </tr>\n",
       "  </thead>\n",
       "  <tbody>\n",
       "    <tr>\n",
       "      <th>100</th>\n",
       "      <td>The mouth says, \"How do I love thee, let me co...</td>\n",
       "      <td>the mouth says how do i love thee let me count...</td>\n",
       "      <td>[the, mouth, says, how, do, i, love, thee, let...</td>\n",
       "      <td>[mouth, says, love, thee, let, count, waysbr, ...</td>\n",
       "      <td>[mouth, say, love, thee, let, count, waysbr, l...</td>\n",
       "    </tr>\n",
       "    <tr>\n",
       "      <th>101</th>\n",
       "      <td>Arrived slightly thawed. My parents wouldn't a...</td>\n",
       "      <td>arrived slightly thawed my parents wouldnt acc...</td>\n",
       "      <td>[arrived, slightly, thawed, my, parents, would...</td>\n",
       "      <td>[arrived, slightly, thawed, parents, wouldnt, ...</td>\n",
       "      <td>[arrived, slightly, thawed, parent, wouldnt, a...</td>\n",
       "    </tr>\n",
       "  </tbody>\n",
       "</table>\n",
       "</div>"
      ],
      "text/plain": [
       "                                                  Text  \\\n",
       "100  The mouth says, \"How do I love thee, let me co...   \n",
       "101  Arrived slightly thawed. My parents wouldn't a...   \n",
       "\n",
       "                                          nopunct_text  \\\n",
       "100  the mouth says how do i love thee let me count...   \n",
       "101  arrived slightly thawed my parents wouldnt acc...   \n",
       "\n",
       "                                        text_tokenized  \\\n",
       "100  [the, mouth, says, how, do, i, love, thee, let...   \n",
       "101  [arrived, slightly, thawed, my, parents, would...   \n",
       "\n",
       "                       text_tokenized_without_stopword  \\\n",
       "100  [mouth, says, love, thee, let, count, waysbr, ...   \n",
       "101  [arrived, slightly, thawed, parents, wouldnt, ...   \n",
       "\n",
       "                                       text_lemmetized  \n",
       "100  [mouth, say, love, thee, let, count, waysbr, l...  \n",
       "101  [arrived, slightly, thawed, parent, wouldnt, a...  "
      ]
     },
     "execution_count": 38,
     "metadata": {},
     "output_type": "execute_result"
    }
   ],
   "source": [
    "df.loc[[100,101], ['Text','nopunct_text','text_tokenized','text_tokenized_without_stopword','text_lemmetized']]"
   ]
  },
  {
   "cell_type": "code",
   "execution_count": 39,
   "id": "09e777e7-bb26-4a63-bc77-12aea0d249c0",
   "metadata": {},
   "outputs": [],
   "source": [
    "# tagged = nltk.pos_tag(tokens)\n",
    "# tagged[:10]\n",
    "# entities = nltk.chunk.ne_chunk(tagged)\n",
    "# entities.pprint()"
   ]
  },
  {
   "cell_type": "code",
   "execution_count": 40,
   "id": "3a28f093-e61d-4f38-b762-e993ae140f54",
   "metadata": {},
   "outputs": [],
   "source": [
    "test_data = df.copy()"
   ]
  },
  {
   "cell_type": "markdown",
   "id": "715f9619-2bde-4230-a29e-8e252f7f472a",
   "metadata": {},
   "source": [
    "# 3.5 - Vectorization"
   ]
  },
  {
   "cell_type": "markdown",
   "id": "7642b6d4-309b-474a-ac6f-cbf1b4a0ac8d",
   "metadata": {},
   "source": [
    "## 3.5.1 - TF-IDF"
   ]
  },
  {
   "cell_type": "code",
   "execution_count": 41,
   "id": "064427e2-ac08-40f3-a871-f246ed31e673",
   "metadata": {},
   "outputs": [],
   "source": [
    "from sklearn.feature_extraction.text import TfidfVectorizer\n",
    "\n",
    "# Step 1: Convert the tokenized lemmitized list back to string\n",
    "test_data['lemmatized_str'] = test_data['text_lemmetized'].apply(lambda x: ' '.join(x))\n",
    "\n",
    "# Step 2: Apply TF-IDF\n",
    "tf_vectorizer = TfidfVectorizer(ngram_range=(1, 1), max_df=1.0, min_df=1)\n",
    "features_tf = tf_vectorizer.fit_transform(test_data['lemmatized_str'])\n",
    "\n",
    "# Step 3: Convert to DataFrame for easy viewing\n",
    "features_tf = pd.DataFrame(features_tf.toarray(), columns=tf_vectorizer.get_feature_names_out())\n"
   ]
  },
  {
   "cell_type": "markdown",
   "id": "991a5ee5-12b7-46ea-ad4e-6a0826c23bc7",
   "metadata": {},
   "source": [
    "## 3.5.2 - Word2vec"
   ]
  },
  {
   "cell_type": "code",
   "execution_count": 39,
   "id": "7c9ddb5c-8d9a-4730-8790-cc667d0ecc7d",
   "metadata": {},
   "outputs": [],
   "source": [
    "from gensim.models import Word2Vec\n",
    "\n",
    "# Step 1: Train Word2Vec on lemmatized text\n",
    "word2vec_model = Word2Vec(sentences=test_data['text_lemmetized'], vector_size=100, window=5, min_count=1, workers=4)\n",
    "\n",
    "# Step 2: Function to get sentence vector by averaging word vectors\n",
    "def get_sentence_vector(sentence, model):\n",
    "    words = [word for word in sentence if word in model.wv.key_to_index]  # Include only words in vocab\n",
    "    if words:\n",
    "        return np.mean(model.wv[words], axis=0)\n",
    "    else:\n",
    "        return np.zeros(model.vector_size)\n"
   ]
  },
  {
   "cell_type": "code",
   "execution_count": 41,
   "id": "679767ef-0b03-4926-86ee-077d4492da6c",
   "metadata": {},
   "outputs": [
    {
     "name": "stdout",
     "output_type": "stream",
     "text": [
      "(25000, 100)\n",
      "[[-2.34602988e-01  2.04280615e-02 -7.00875998e-01 -4.39605936e-02\n",
      "   7.59259835e-02 -6.30151272e-01 -3.67184617e-02  9.71363008e-01\n",
      "  -4.36815917e-01 -1.90780908e-01 -1.89965576e-01 -2.13304758e-02\n",
      "  -3.92995387e-01  1.47433206e-01 -1.20642923e-01 -3.07948142e-01\n",
      "   7.70197809e-01 -1.88445956e-01  6.24427497e-02 -8.28768551e-01\n",
      "   2.43763715e-01  1.89157709e-01  5.79919577e-01 -3.13054949e-01\n",
      "   3.88711184e-01 -1.88158557e-01 -7.14801610e-01  4.25471067e-01\n",
      "  -5.60274303e-01  1.55137733e-01  7.97998905e-01 -2.38491327e-01\n",
      "   2.98150778e-01 -5.50756395e-01 -1.84669867e-01  8.46314907e-01\n",
      "  -2.69079119e-01 -4.19180632e-01  3.35108519e-01 -7.41257608e-01\n",
      "   4.66964692e-01 -2.41358757e-01 -4.18404043e-01  6.16620071e-02\n",
      "  -7.04334527e-02 -3.26484770e-01 -2.41155162e-01  3.94126177e-02\n",
      "   5.59551060e-01  6.17788732e-01  4.11377490e-01 -2.68661737e-01\n",
      "   2.05505013e-01  5.25491118e-01  4.82827127e-02 -2.34706607e-02\n",
      "   9.51267332e-02 -6.26098275e-01 -6.81047976e-01  5.12713969e-01\n",
      "   2.37638488e-01  1.90533996e-01  5.93534827e-01  4.93317358e-02\n",
      "  -5.45585155e-01 -8.31220113e-03  4.21291530e-01 -2.42127776e-01\n",
      "  -6.45326614e-01  5.93027174e-01 -1.85798556e-01  2.91618347e-01\n",
      "   7.64344558e-02 -4.15343821e-01  1.16975021e+00 -3.39032799e-01\n",
      "   3.99086326e-01  3.15186471e-01 -3.16395193e-01 -2.16583580e-01\n",
      "  -3.39337587e-01  4.43703145e-01 -5.01707077e-01  8.64093006e-01\n",
      "  -3.59783202e-01 -1.09487452e-01  4.32922781e-01  1.44555137e-01\n",
      "  -1.05650529e-01  2.86127269e-01  4.34737980e-01  3.57327282e-01\n",
      "  -2.21970201e-01 -8.48628134e-02  5.80834329e-01  2.32425202e-02\n",
      "  -1.55890673e-01 -2.79362530e-01 -2.62309909e-02 -1.14506744e-01]\n",
      " [-2.22081825e-01  3.07161119e-02 -3.20398152e-01 -1.11933723e-01\n",
      "   2.80515313e-01 -3.84773046e-01 -6.30790889e-02  9.92189825e-01\n",
      "  -2.37704575e-01 -1.32833362e-01  4.86453325e-02 -1.39284313e-01\n",
      "  -2.38506854e-01  3.23439360e-01 -3.06481346e-02 -8.12552348e-02\n",
      "   1.14169866e-01 -1.34791493e-01 -2.95122087e-01 -6.74662352e-01\n",
      "   1.19197913e-01  6.37689198e-04  1.72962129e-01 -2.15532959e-01\n",
      "   2.85559177e-01 -6.05982095e-02 -2.42364835e-02 -2.06900612e-01\n",
      "  -3.64127785e-01  6.60163686e-02  5.02622664e-01 -1.52303249e-01\n",
      "   1.51774779e-01 -3.27742636e-01  1.53601736e-01  4.79199558e-01\n",
      "  -1.72041640e-01 -5.87468624e-01  1.17084712e-01 -7.08480239e-01\n",
      "   4.07744914e-01 -4.88004684e-01 -6.16071671e-02 -1.52641177e-01\n",
      "  -8.26848578e-03 -1.59737185e-01 -2.74519354e-01  5.15724361e-01\n",
      "   3.06639701e-01  1.91453621e-01  5.85771322e-01 -3.93299162e-01\n",
      "   1.48184210e-01  3.23970914e-01 -3.73758435e-01  1.84491292e-01\n",
      "   8.33348110e-02 -4.53323722e-01 -2.54185557e-01 -7.63480961e-02\n",
      "   3.79387081e-01  4.25076634e-01  3.54548246e-01 -3.56320798e-01\n",
      "  -2.90136784e-01  1.18958503e-01  1.47069633e-01  1.19648919e-01\n",
      "  -5.06045818e-01  2.79138684e-01 -3.24497372e-01  4.59380358e-01\n",
      "   1.04649693e-01 -6.85891211e-02  4.75773484e-01  1.89124778e-01\n",
      "   1.55661106e-01  1.34890079e-01 -2.10175931e-01 -9.17814150e-02\n",
      "  -1.31495863e-01  2.33140916e-01 -7.08173573e-01  5.10302424e-01\n",
      "   4.16656844e-02  3.13797414e-01  9.28933918e-02  8.53899047e-02\n",
      "   1.19603977e-01  2.04819426e-01  1.63162313e-02  5.02644122e-01\n",
      "   2.84770707e-04  2.07843021e-01  2.80911833e-01  1.63902882e-02\n",
      "   6.01633117e-02  3.38795073e-02 -2.63350964e-01 -4.52226788e-01]\n",
      " [-2.48456314e-01 -8.63768086e-02 -1.93447635e-01 -4.34198696e-03\n",
      "   2.33350188e-01 -4.15714979e-01  7.57126370e-03  9.10250366e-01\n",
      "   5.37766330e-02  1.82543129e-01 -9.53663066e-02 -2.64554113e-01\n",
      "  -3.79534185e-01  1.60310596e-01 -6.99992776e-02 -1.07006475e-01\n",
      "  -9.62220207e-02 -9.63584930e-02 -7.49906525e-02 -4.48546171e-01\n",
      "  -2.57341494e-03 -8.18553641e-02  1.80050820e-01 -2.59845108e-01\n",
      "   2.56673783e-01 -8.25319439e-02 -1.65416256e-01 -1.83653943e-02\n",
      "  -3.16777855e-01  1.08691946e-01  5.51450372e-01 -1.74537748e-01\n",
      "   9.87032056e-02 -1.86794758e-01 -1.21711502e-02  3.10345292e-01\n",
      "  -3.65690887e-02 -2.09797859e-01 -3.53978807e-03 -3.90616655e-01\n",
      "   1.28065914e-01 -1.82371572e-01 -1.38066441e-01  1.54537603e-01\n",
      "  -6.69615194e-02 -2.60506660e-01 -2.81232178e-01  3.27911198e-01\n",
      "   2.63558805e-01  3.03848326e-01  5.40556431e-01 -3.96103591e-01\n",
      "   1.95755780e-01  3.59823495e-01 -2.76571155e-01  4.97870505e-01\n",
      "   1.99550241e-01 -2.69377321e-01 -2.24113017e-01  3.39303553e-01\n",
      "   6.76607341e-02  1.05630592e-01  5.25779650e-03 -3.85467678e-01\n",
      "  -3.04233849e-01  2.61319160e-01 -9.78311151e-03  1.34851886e-02\n",
      "  -4.76985782e-01  1.62044495e-01 -1.45720631e-01  3.68023366e-01\n",
      "   2.85224646e-01 -2.49400809e-01  4.23787981e-01  4.98827621e-02\n",
      "  -4.11979761e-03 -1.32921576e-01 -1.20930925e-01  3.62481847e-02\n",
      "  -4.75665569e-01  1.97862178e-01 -2.94941664e-01  3.10352862e-01\n",
      "  -2.01986864e-01  1.03404805e-01 -4.63578943e-03  1.47145957e-01\n",
      "   3.73648971e-01  1.87784582e-01  1.84738800e-01  3.72508347e-01\n",
      "   1.84776839e-02  1.10033058e-01  4.07138765e-01 -4.83778352e-03\n",
      "   2.16133028e-01 -2.00943395e-01 -1.66078478e-01 -1.66144833e-01]\n",
      " [-2.40530252e-01 -2.23606476e-03 -3.40627581e-01  1.28729492e-01\n",
      "   1.32186906e-02 -6.34907424e-01  3.44416469e-01  5.70649981e-01\n",
      "  -4.52560276e-01 -1.24342227e-02 -1.84950307e-01 -8.98568481e-02\n",
      "  -2.24329546e-01 -2.24481657e-01  2.14850605e-01 -4.02662307e-01\n",
      "   5.18125296e-01 -9.97095779e-02 -1.20718153e-02 -4.32083100e-01\n",
      "   2.02930167e-01 -1.08547904e-01  6.81989372e-01  3.22331749e-02\n",
      "   4.07968789e-01 -2.58222044e-01 -5.78181207e-01 -2.72055656e-01\n",
      "  -4.96740133e-01 -2.45400980e-01  1.30572116e+00 -5.49965613e-02\n",
      "  -8.23190957e-02 -4.62212503e-01 -4.72486578e-03  6.76343620e-01\n",
      "   6.97385743e-02 -2.54844669e-02  2.01580226e-02 -8.24302912e-01\n",
      "  -4.63065058e-02 -4.09116656e-01 -1.39477074e-01  2.73718268e-01\n",
      "  -1.77667245e-01 -3.98347467e-01 -3.79951388e-01  1.41534865e-01\n",
      "   2.30226278e-01  6.32811725e-01  2.70959139e-01 -4.44458365e-01\n",
      "   3.05281162e-01  1.72194421e-01 -9.13251042e-02  7.70078778e-01\n",
      "   3.39490712e-01 -3.72335464e-01 -8.83380890e-01  4.36934382e-01\n",
      "   2.62089223e-01  3.34639430e-01 -1.84595779e-01 -4.85952109e-01\n",
      "  -7.68758655e-01  5.21400690e-01 -3.87807280e-01  4.80887294e-01\n",
      "   5.19712344e-02  1.98953360e-01 -3.45317870e-01  1.85320616e-01\n",
      "   5.49376726e-01  1.20333761e-01  9.60266232e-01  3.52238268e-01\n",
      "  -8.69386345e-02  3.16117018e-01 -2.77961284e-01 -2.12356299e-01\n",
      "  -3.38848680e-01  6.24431707e-02 -4.74342883e-01  6.41628861e-01\n",
      "  -5.32831907e-01  2.15126455e-01  2.58548886e-01 -2.91942626e-01\n",
      "   4.07624757e-03 -1.78083599e-01  7.15994537e-01  3.36007148e-01\n",
      "  -4.41891365e-02 -6.96819425e-02  3.84569168e-01  1.41777948e-01\n",
      "  -9.88035500e-02 -6.52994812e-01 -3.68952334e-01 -4.81404454e-01]\n",
      " [-8.47479999e-02  4.76357006e-02 -3.54827464e-01 -3.26049477e-02\n",
      "   3.17989498e-01 -5.60057282e-01 -2.34805584e-01  1.04616225e+00\n",
      "  -2.88715333e-01 -3.40256333e-01  2.10476562e-01 -1.80403199e-02\n",
      "  -1.34638652e-01  1.28124971e-02  4.04901244e-02 -2.25459084e-01\n",
      "   3.78724545e-01  5.10351285e-02 -1.34835253e-02 -6.22906923e-01\n",
      "   2.69283149e-02 -1.27966791e-01  1.47578537e-01 -4.17772233e-01\n",
      "   3.17423135e-01  2.18236834e-01 -2.23548878e-02 -2.86868632e-01\n",
      "  -2.56337821e-01  3.83678883e-01  6.16014123e-01  8.17182884e-02\n",
      "   4.96042699e-01 -5.62839150e-01 -3.94590683e-02  4.08214629e-01\n",
      "  -4.74849701e-01 -4.97078776e-01 -1.30587593e-01 -4.87497687e-01\n",
      "   1.27435714e-01 -7.21977949e-01 -7.80538023e-02 -1.01011507e-01\n",
      "   3.79982829e-01 -2.76063800e-01  8.15979764e-03  3.27848107e-01\n",
      "   5.30691743e-01  3.94956589e-01  4.54826772e-01 -3.04477096e-01\n",
      "   3.71209949e-01  5.05538046e-01 -2.97920316e-01  6.02882169e-02\n",
      "   3.03765982e-01 -4.48839396e-01  1.26740083e-01  3.29716027e-01\n",
      "   5.54378450e-01  4.93202478e-01  3.69205415e-01 -2.65082091e-01\n",
      "  -4.24805194e-01  4.64120597e-01  4.44690257e-01  1.01366699e+00\n",
      "  -7.99200952e-01  4.54758137e-01 -5.67273460e-02  8.06201175e-02\n",
      "   4.60539192e-01  7.22202808e-02  8.84971321e-01  7.94163764e-01\n",
      "  -1.23626716e-01  2.57300794e-01 -9.76707265e-02 -2.26214260e-01\n",
      "  -4.27883953e-01  3.29448283e-01 -6.31107688e-01  7.96403229e-01\n",
      "   3.32942158e-02  3.95904869e-01  2.27584571e-01  1.53881043e-01\n",
      "   8.18234533e-02  4.57985252e-01  4.47272122e-01  3.22018176e-01\n",
      "   2.70619035e-01  3.86921734e-01 -1.97779350e-02 -2.89006531e-01\n",
      "   5.76671660e-01 -1.89127102e-01 -1.96592182e-01 -3.06848615e-01]]\n"
     ]
    }
   ],
   "source": [
    "# Step 3: Apply the function to each sentence to get sentence vectors\n",
    "test_data['sentence_vector'] = test_data['text_lemmetized'].apply(lambda x: get_sentence_vector(x, word2vec_model))\n",
    "\n",
    "# Convert to a NumPy array for further usage\n",
    "features_word2vec = np.vstack(test_data['sentence_vector'].values)\n",
    "\n",
    "# Check the shape and some sample vectors\n",
    "print(features_word2vec.shape)\n",
    "print(features_word2vec[:5])"
   ]
  },
  {
   "cell_type": "markdown",
   "id": "4b3b0865-b26d-462f-800e-336a5a395728",
   "metadata": {},
   "source": [
    "## 3.5.3 - FastText"
   ]
  },
  {
   "cell_type": "code",
   "execution_count": 42,
   "id": "c082318a-3488-4dba-8a65-391e2a6b6846",
   "metadata": {},
   "outputs": [],
   "source": [
    "from gensim.models import FastText\n",
    "\n",
    "# Step 1: Train FastText on lemmatized text\n",
    "fasttext_model = FastText(sentences=test_data['text_lemmetized'], vector_size=100, window=5, min_count=1, workers=4)"
   ]
  },
  {
   "cell_type": "code",
   "execution_count": 43,
   "id": "6232ae4a-89a0-4aa3-8b06-4ae99e9fd43b",
   "metadata": {},
   "outputs": [],
   "source": [
    "# Step 2: Function to get sentence vector by averaging word vectors\n",
    "def get_sentence_vector_fasttext(sentence, model):\n",
    "    words = [word for word in sentence if word in model.wv.key_to_index]  # Include only words in vocab\n",
    "    if words:\n",
    "        return np.mean(model.wv[words], axis=0)\n",
    "    else:\n",
    "        return np.zeros(model.vector_size)\n"
   ]
  },
  {
   "cell_type": "code",
   "execution_count": 44,
   "id": "57b6e481-55af-4648-850a-110e55c6435d",
   "metadata": {},
   "outputs": [
    {
     "name": "stdout",
     "output_type": "stream",
     "text": [
      "(25000, 100)\n",
      "[[-6.72030509e-01 -3.86920422e-01 -1.58941364e+00  4.65658724e-01\n",
      "  -1.76764339e-01  1.46669745e-01  2.62953281e-01  3.36754948e-01\n",
      "   3.10743272e-01 -4.00032282e-01  2.11212695e-01 -4.34238091e-02\n",
      "  -1.11214328e+00  6.11927629e-01  1.28348535e-02 -3.19520086e-02\n",
      "   2.22139936e-02 -5.19940376e-01 -1.82544082e-01  8.59009698e-02\n",
      "  -2.74826974e-01  4.52504873e-01 -3.93837959e-01  3.12711477e-01\n",
      "   3.74442935e-01 -7.49914587e-01 -3.13458771e-01  1.08109856e+00\n",
      "   8.61094117e-01 -9.66904163e-02 -9.55723673e-02 -3.79963033e-03\n",
      "   4.15861905e-01 -3.61844629e-01 -5.03930330e-01  4.58161801e-01\n",
      "   6.09926045e-01  7.34781504e-01  1.65707648e-01  5.63160300e-01\n",
      "   5.60823858e-01 -2.30096862e-01  7.86725402e-01  3.63147497e-01\n",
      "  -2.08072066e-01 -4.80111837e-01 -3.38491112e-01 -5.58610916e-01\n",
      "   5.60448050e-01 -5.71596444e-01 -6.80565313e-02  5.19920290e-01\n",
      "   7.14627147e-01  7.63135850e-01  1.64017096e-01 -7.91271478e-02\n",
      "  -7.26499319e-01  6.82965145e-02  2.44299725e-01  1.08982092e-02\n",
      "   2.67138425e-03  3.57798964e-01  2.71824658e-01  6.07648849e-01\n",
      "  -6.32970750e-01  1.87180027e-01 -5.33691406e-01  4.87177670e-01\n",
      "   1.06392778e-01  7.05896795e-01  3.55059713e-01 -1.18302369e+00\n",
      "   9.71187726e-02 -4.35703993e-01  3.26656431e-01 -3.48710604e-02\n",
      "   1.89612061e-01  8.77224982e-01 -5.62639952e-01 -4.02051717e-01\n",
      "   5.13742864e-02 -1.90641195e-01 -6.48420453e-02 -6.59044325e-01\n",
      "  -1.49028972e-01 -1.31998420e+00  4.81681116e-02 -3.89699847e-01\n",
      "  -1.36708349e-01 -7.00731054e-02 -9.63032901e-01 -5.02463400e-01\n",
      "   3.14995006e-04  3.97586912e-01 -8.06897521e-01  5.36502779e-01\n",
      "   3.36541682e-01  3.01779360e-01 -4.72018361e-01  1.56977624e-01]\n",
      " [-8.47909153e-02  1.45524085e-01 -6.57358766e-01  4.95825782e-02\n",
      "  -2.05371320e-01 -1.52321994e-01  3.85493249e-01 -2.27282256e-01\n",
      "   3.17303598e-01 -5.09941816e-01 -1.36033326e-01  2.51628906e-01\n",
      "  -5.68827629e-01  3.26328784e-01 -3.48292857e-01 -9.34985429e-02\n",
      "  -2.81502217e-01 -5.72928667e-01 -5.73270321e-01 -3.15999895e-01\n",
      "  -1.56836018e-01  7.55294323e-01  1.76906288e-01 -5.61532564e-02\n",
      "   3.45931619e-01 -9.85694885e-01 -2.62366951e-01  6.16358757e-01\n",
      "   4.95466709e-01 -4.02891189e-02 -3.98845583e-01 -4.38882202e-01\n",
      "   3.46891344e-01 -5.92276216e-01 -1.98089585e-01  1.80293113e-01\n",
      "   9.52469558e-02  7.49221146e-01  1.82138845e-01  4.89424288e-01\n",
      "   4.86409813e-01 -5.14853239e-01  5.87150693e-01  6.15260750e-02\n",
      "  -1.32346094e-01 -4.51966643e-01 -1.40385449e-01 -7.20271826e-01\n",
      "  -5.01318136e-04 -3.00969213e-01  8.62022936e-02  7.57051468e-01\n",
      "   6.48394227e-01  3.36806834e-01 -6.97311834e-02 -8.44142437e-02\n",
      "  -9.36603844e-01 -9.81211811e-02 -3.69066060e-01 -1.49004817e-01\n",
      "  -1.48355931e-01 -3.20677102e-01  2.28333682e-01  3.61604393e-01\n",
      "  -1.12608723e-01 -6.40484542e-02 -1.42037630e-01 -3.28483917e-02\n",
      "   5.07102787e-01  8.06312740e-01  1.22627586e-01 -6.96930289e-01\n",
      "  -3.63098085e-01 -3.28221202e-01  5.73843598e-01 -1.58516422e-01\n",
      "   2.62020588e-01 -7.38381818e-02 -1.17938213e-01  2.08444193e-01\n",
      "  -8.07318985e-02 -5.04404306e-01 -6.57044113e-01 -4.80248868e-01\n",
      "  -7.38897800e-01 -8.62024724e-01 -5.23293912e-01 -1.08535379e-01\n",
      "   2.81538606e-01 -5.65539122e-01 -7.55861402e-01 -1.71967685e-01\n",
      "  -1.94691995e-03  8.20794761e-01 -2.01674819e-01  1.62504271e-01\n",
      "   3.37518901e-01 -8.12649280e-02 -4.68397200e-01  4.30170357e-01]\n",
      " [-1.96117550e-01 -7.97472075e-02 -7.04407096e-01  1.27153322e-01\n",
      "   1.19252220e-01 -2.85881814e-02  1.61407620e-01  6.88893571e-02\n",
      "   4.08814609e-01 -2.94126570e-01 -2.67035395e-01  2.39565775e-01\n",
      "  -5.41357875e-01  3.33852828e-01 -2.84420311e-01  2.22186651e-02\n",
      "  -1.94951117e-01 -2.86146462e-01 -1.83155045e-01 -4.34723198e-01\n",
      "  -2.28931576e-01  1.79882765e-01 -9.66549441e-02  8.69798735e-02\n",
      "   1.13225423e-01 -5.60844362e-01 -2.67913342e-01  2.69366115e-01\n",
      "   4.70215976e-01  6.35409206e-02 -1.26213729e-01 -1.26884595e-01\n",
      "   5.80094874e-01 -9.14724618e-02 -2.19362587e-01  4.72188652e-01\n",
      "   3.12357515e-01  6.10596240e-01 -1.02991983e-01  1.39009386e-01\n",
      "   6.88003182e-01 -3.21510553e-01  3.17272276e-01 -1.07467532e-01\n",
      "  -2.90203273e-01 -3.32250774e-01 -2.61276990e-01 -4.44425046e-01\n",
      "   1.76926032e-01  5.28206229e-02  3.74493986e-01  5.41810036e-01\n",
      "   7.68074393e-01  2.74453670e-01 -1.34692997e-01 -1.74741969e-01\n",
      "  -3.10607195e-01  4.04271595e-02 -1.47648290e-01 -1.29195720e-01\n",
      "   1.18962631e-01 -2.42190212e-01 -2.34816745e-01  3.70773226e-01\n",
      "  -1.99227631e-01  2.15790004e-01  1.29887432e-01 -6.18420541e-02\n",
      "   4.02639329e-01  9.78224397e-01  2.26258546e-01 -4.82736766e-01\n",
      "   5.74702099e-02 -3.38266641e-01  2.70403802e-01  3.41440178e-02\n",
      "   4.04422134e-01  9.57040191e-02 -1.05504394e-02  2.16688469e-01\n",
      "  -2.68177092e-01 -3.53097618e-01 -2.16231585e-01 -2.57114589e-01\n",
      "  -4.74566519e-01 -5.93491077e-01  1.30465329e-02 -3.43202055e-01\n",
      "  -2.98881561e-01 -4.08214718e-01 -9.47104633e-01 -2.17896253e-01\n",
      "  -4.07801330e-01  3.68106812e-01 -6.47175729e-01  3.02352518e-01\n",
      "   2.98693359e-01 -2.61339068e-01 -3.38100135e-01  5.52172124e-01]\n",
      " [ 1.11867107e-01 -3.78769398e-01 -9.96688843e-01  1.13934480e-01\n",
      "   1.63362399e-01  7.42261931e-02  1.87166393e-01 -3.80327031e-02\n",
      "   6.24542475e-01 -2.99594581e-01 -6.46608949e-01  2.94585347e-01\n",
      "  -7.55995631e-01  1.11197419e-01 -1.04786091e-01  1.17478952e-01\n",
      "   1.12754703e-02 -5.38636446e-01 -2.58157194e-01  2.00061589e-01\n",
      "  -7.18542576e-01  3.00025702e-01  2.63050675e-01  2.57546246e-01\n",
      "   1.91605359e-01 -7.84429550e-01 -2.67410487e-01  5.86906314e-01\n",
      "   6.77872479e-01 -3.67638946e-01  1.00558370e-01  4.80647206e-01\n",
      "   3.47200334e-01 -4.61388916e-01 -9.95529369e-02  2.57282615e-01\n",
      "   2.23253965e-01  9.92803991e-01 -2.84917295e-01  5.00335805e-02\n",
      "   7.39175797e-01 -1.24681592e-01  3.88966978e-01  5.49621508e-02\n",
      "  -1.32955955e-02 -1.02980994e-02 -1.88047886e-01 -4.33997333e-01\n",
      "   3.63155067e-01 -2.69553900e-01  3.63374770e-01  4.79980677e-01\n",
      "   5.76239049e-01  4.26399201e-01 -2.89744996e-02 -4.13151830e-01\n",
      "  -5.26643038e-01 -6.17359281e-02 -5.45178473e-01 -1.66162714e-01\n",
      "  -3.39661986e-02  9.42038670e-02 -4.10827726e-01  2.27112949e-01\n",
      "  -9.89813566e-01  6.92661881e-01 -1.19047798e-01  2.36801147e-01\n",
      "   8.04749250e-01  7.73198843e-01  6.85327709e-01 -9.24251676e-01\n",
      "   5.00788465e-02 -2.95818537e-01  9.75044549e-01 -7.93551579e-02\n",
      "   6.75965309e-01  5.16760945e-01 -3.33978027e-01  2.08678514e-01\n",
      "   1.89702570e-01 -6.76052749e-01 -1.09591149e-01 -1.93070576e-01\n",
      "  -6.17803514e-01 -8.36362958e-01 -2.11993515e-01 -1.63580984e-01\n",
      "  -1.72755703e-01 -5.15770733e-01 -6.65122211e-01  2.09118798e-01\n",
      "  -3.65591288e-01 -7.10263401e-02 -3.63114685e-01  1.08261794e-01\n",
      "  -3.26275289e-01 -1.16895832e-01 -6.78483367e-01  5.50529435e-02]\n",
      " [-4.04818892e-01 -7.91369379e-02 -6.82561755e-01 -8.71164873e-02\n",
      "   2.95085341e-01 -1.25397235e-01 -2.83873677e-01  4.74620610e-01\n",
      "   7.86685199e-02 -3.45789582e-01 -2.24676028e-01  3.54277104e-01\n",
      "  -2.12920293e-01  6.29166186e-01  1.80082172e-01  1.71448439e-01\n",
      "   3.56107727e-02 -5.09533405e-01  2.12542906e-01  1.58675238e-02\n",
      "  -1.50297195e-01 -1.67633444e-01 -4.18781340e-01  1.37339765e-02\n",
      "   9.12300870e-03 -5.86931169e-01 -1.10929914e-01  6.98542833e-01\n",
      "   5.57199240e-01  1.03214629e-01  1.05667166e-01 -2.67133892e-01\n",
      "   6.66937709e-01 -9.58694756e-01 -5.75335979e-01  8.85922968e-01\n",
      "   7.89349601e-02  7.11904824e-01 -4.18046206e-01  3.21647584e-01\n",
      "   9.12118673e-01 -5.89016676e-01  1.06812716e+00 -1.72669098e-01\n",
      "   2.51541704e-01 -2.48843044e-01 -5.53249121e-01 -4.64118272e-01\n",
      "   2.45014727e-01  9.41920429e-02 -2.77140766e-01  3.87990117e-01\n",
      "   1.01957059e+00 -8.71107280e-02 -7.38274217e-01 -2.71865688e-02\n",
      "  -4.26220536e-01 -4.86847997e-01  7.75308907e-02 -8.08299333e-02\n",
      "   1.51094675e-01  2.60214210e-01 -4.73161668e-01  3.75477493e-01\n",
      "  -6.12358332e-01  7.06703722e-01  1.81967448e-02  1.81370482e-01\n",
      "   2.36893624e-01  6.17352366e-01  3.19242895e-01 -5.98573804e-01\n",
      "  -1.07909352e-01 -4.36866403e-01  8.53481174e-01 -2.49786124e-01\n",
      "   4.25103366e-01  8.21804553e-02 -3.35786939e-01 -2.36393154e-01\n",
      "  -2.35751837e-01 -1.62120268e-01 -2.22284645e-01 -6.61153674e-01\n",
      "   5.26103452e-02 -9.84806597e-01 -2.62818664e-01 -2.49005660e-01\n",
      "  -2.74042726e-01 -5.87183297e-01 -7.82924354e-01 -4.76425141e-01\n",
      "   7.95713514e-02  1.08901298e+00 -1.43834025e-01  1.78811312e-01\n",
      "   1.25523776e-01  4.40686345e-01 -2.17757761e-01  1.84029974e-02]]\n"
     ]
    }
   ],
   "source": [
    "# Step 3: Apply the function to each sentence to get sentence vectors\n",
    "test_data['sentence_vector'] = test_data['text_lemmetized'].apply(lambda x: get_sentence_vector_fasttext(x, fasttext_model))\n",
    "\n",
    "# Convert to a NumPy array for further usage\n",
    "features_fasttext = np.vstack(test_data['sentence_vector'].values)\n",
    "\n",
    "# Check the shape and some sample vectors\n",
    "print(features_fasttext.shape)\n",
    "print(features_fasttext[:5])\n"
   ]
  },
  {
   "cell_type": "markdown",
   "id": "0dd3e012-2ec2-415e-992b-2b70757d7c0b",
   "metadata": {},
   "source": [
    "## 3.5.2 - Glove"
   ]
  },
  {
   "cell_type": "code",
   "execution_count": 45,
   "id": "9e716b06-7b83-4122-b937-3682cc5fa6b6",
   "metadata": {},
   "outputs": [
    {
     "name": "stdout",
     "output_type": "stream",
     "text": [
      "400000 words loaded!\n"
     ]
    }
   ],
   "source": [
    "import numpy as np\n",
    "\n",
    "# Function to load GloVe vectors into a dictionary\n",
    "def load_glove_model(glove_file):\n",
    "    glove_model = {}\n",
    "    with open(glove_file, 'r', encoding='utf-8') as f:\n",
    "        for line in f:\n",
    "            split_line = line.split()\n",
    "            word = split_line[0]\n",
    "            vector = np.array(split_line[1:], dtype=np.float64)\n",
    "            glove_model[word] = vector\n",
    "    print(f\"{len(glove_model)} words loaded!\")\n",
    "    return glove_model\n",
    "\n",
    "# Load GloVe embeddings (use the correct path to your GloVe file)\n",
    "glove_model = load_glove_model(\"glove.6B.100d.txt\")\n"
   ]
  },
  {
   "cell_type": "code",
   "execution_count": 46,
   "id": "014ddd05-ebfa-4672-b1c9-82592d0ee321",
   "metadata": {},
   "outputs": [
    {
     "name": "stdout",
     "output_type": "stream",
     "text": [
      "(25000, 100)\n",
      "[[-5.42712304e-02  4.48417483e-01  4.07625652e-01 -2.96549261e-01\n",
      "  -2.03065183e-01 -1.21084313e-01  1.30126304e-01 -7.99795652e-03\n",
      "   5.48966522e-02 -3.68131739e-02 -2.77703261e-01 -1.39389391e-01\n",
      "   2.87481087e-01  8.24021043e-02  8.71590870e-02  1.35268261e-01\n",
      "   3.28184922e-01  5.21239565e-02  2.05022087e-02  2.93342478e-01\n",
      "   2.34450000e-02  1.58895522e-01  1.11417609e-01 -3.07915143e-01\n",
      "  -1.17352961e-01  3.88181565e-01 -1.44919957e-01 -2.84277696e-01\n",
      "  -3.59470043e-01 -9.98539130e-03  1.57034783e-02  4.85435783e-01\n",
      "  -7.51109217e-02 -7.96082609e-02  3.03914217e-01  4.00653696e-01\n",
      "   3.30601739e-02  1.49167957e-01 -1.14406252e-01 -4.94803000e-01\n",
      "   1.55590100e-01 -5.72113509e-01 -1.30767974e-01 -3.60377913e-01\n",
      "  -1.45847826e-02  2.07381522e-01 -1.08158652e-01 -2.42416348e-01\n",
      "  -6.45482609e-03 -7.18096522e-01  1.65969435e-01 -1.26072609e-02\n",
      "  -1.13404609e-01  6.52343261e-01 -2.38883522e-01 -1.24651474e+00\n",
      "  -1.25310696e-01 -1.96903478e-02  1.09194883e+00 -1.72109130e-02\n",
      "   2.02248787e-01  6.73848000e-01 -1.39713435e-01  1.51488174e-01\n",
      "   5.51439217e-01 -9.16419565e-02  3.77781304e-01 -4.94041870e-02\n",
      "   4.09977478e-01 -2.86628478e-01  1.17340435e-02  1.03149913e-01\n",
      "   2.11572991e-01  6.69876783e-02  1.83090653e-01  2.92488161e-01\n",
      "  -3.10227822e-01 -1.53879217e-01 -3.82355522e-01  5.13080000e-02\n",
      "   3.90367435e-01  3.53455174e-02 -5.64373609e-01  3.67549287e-01\n",
      "  -9.44724348e-01 -2.29173957e-01  1.30042687e-01 -4.55857391e-02\n",
      "  -4.59329565e-01 -2.48875130e-01  1.85403539e-01 -9.05424348e-02\n",
      "  -1.43003709e-01 -1.45788739e-01 -4.68610652e-01 -1.52104826e-01\n",
      "  -3.38418291e-01 -3.54258435e-01  5.40707000e-01  3.06173565e-01]\n",
      " [-2.57185294e-01  3.98087647e-01  1.74903588e-01  1.29791059e-01\n",
      "  -2.00400882e-01 -2.57132353e-02  4.41304118e-01  7.66163824e-02\n",
      "   2.35030647e-01  5.97169412e-02 -3.05014412e-02 -3.09768235e-02\n",
      "   1.53100353e-01  2.59427800e-01  3.18980000e-02  2.22283529e-02\n",
      "   1.67894765e-01  2.63471588e-01  3.55532941e-02 -6.02316471e-02\n",
      "   4.33347059e-02  1.71947706e-01  1.18294176e-01 -1.52748359e-01\n",
      "   9.03276471e-02  1.83218235e-01 -1.86305059e-01 -3.56752824e-02\n",
      "  -3.30076059e-01  1.76608518e-01  1.63234524e-01  4.22754706e-01\n",
      "  -9.57937059e-02  1.24607235e-01  1.71761412e-01  2.91876353e-01\n",
      "   2.53342176e-01  2.65168059e-01  5.29095294e-02 -4.16988941e-01\n",
      "   4.38335882e-02 -5.27175706e-01  6.27640000e-02 -3.60675647e-01\n",
      "   4.97582353e-03 -3.40264706e-03 -1.71514706e-02 -3.88447059e-02\n",
      "  -3.83717294e-01 -3.70022235e-01  9.22404706e-02  1.12957294e-01\n",
      "   3.32705882e-02  5.45197647e-01 -3.37298706e-01 -1.14661324e+00\n",
      "  -9.69136471e-02  9.47511765e-03  1.14158000e+00  1.19995882e-01\n",
      "   3.15805882e-02  3.26984824e-01 -9.35118235e-02  2.04529353e-01\n",
      "   4.94231765e-01 -2.53043941e-01  1.54456176e-01  6.05217059e-02\n",
      "   1.17920000e-01 -1.95936165e-01  6.95202353e-02 -2.32999412e-01\n",
      "   3.04954118e-02  8.16886706e-02  7.85440000e-02  3.24956188e-01\n",
      "  -2.44392941e-02 -8.01067647e-02 -5.43985882e-02  2.60486176e-01\n",
      "   2.88125047e-01 -2.21440000e-01 -4.99254647e-01 -3.19159059e-02\n",
      "  -8.18559059e-01 -3.36547059e-01  1.78514882e-01 -2.43966183e-01\n",
      "  -1.42521671e-01 -1.97214235e-01 -1.53264341e-01  2.62620412e-01\n",
      "  -4.95055882e-02 -4.18684059e-01 -4.18391000e-01 -1.43702176e-01\n",
      "  -1.30806288e-01 -1.50475882e-01  4.80142882e-01 -1.22925412e-01]\n",
      " [-1.89963047e-01  3.27814175e-01  4.38517493e-02 -4.61662250e-02\n",
      "  -3.37572000e-02  2.89424725e-01  1.65687727e-02  1.09923196e-01\n",
      "  -7.48536250e-02 -4.46598350e-02 -4.88842400e-02 -3.75187825e-02\n",
      "   1.14033925e-01  2.40991880e-01  1.18282950e-01  7.20610400e-02\n",
      "   1.39785850e-01 -1.35915175e-01  7.78614000e-02  5.40868950e-02\n",
      "   1.27953049e-01 -4.99755000e-03  5.81875125e-02 -1.23026043e-01\n",
      "   1.39808845e-01  4.58329250e-01 -2.37640250e-02 -2.87511050e-01\n",
      "  -2.74546750e-01 -3.49886500e-02  1.29470875e-01  1.18150325e-01\n",
      "   7.40991750e-02 -2.21407450e-01 -4.43103447e-02  2.95589800e-01\n",
      "  -3.36448250e-02  9.62704375e-02  1.32203219e-01 -1.97632104e-01\n",
      "  -2.38605500e-02 -2.53908775e-01 -1.47624375e-01 -3.48349300e-01\n",
      "  -1.00890000e-03  5.33902250e-02 -9.12521500e-02  9.26288750e-02\n",
      "   7.83740550e-02 -2.39108675e-01 -3.72051225e-02  1.20302000e-02\n",
      "   2.02777213e-01  5.50875000e-01 -3.28609250e-01 -1.06028350e+00\n",
      "  -1.74670050e-01  1.50148400e-01  4.82671175e-01 -3.15853750e-02\n",
      "   9.64303000e-02  5.84917422e-01 -5.05598000e-03  9.52866500e-02\n",
      "   3.53078300e-01 -2.31218873e-01  4.09945975e-01  7.77692125e-02\n",
      "   1.99782250e-02 -2.73488100e-01 -4.70092500e-04 -1.42331350e-01\n",
      "   3.41962200e-02  2.45960230e-01  8.19850000e-02 -1.39713000e-02\n",
      "  -1.67241075e-01 -1.93047750e-01 -1.72270525e-01  1.24863950e-01\n",
      "   1.62933775e-01 -1.01615658e-01 -2.11035550e-01  2.74621725e-01\n",
      "  -5.70231062e-01 -1.46577399e-01  7.23096500e-02 -1.42498680e-01\n",
      "  -6.58643750e-02 -5.85721750e-02  4.01445000e-02 -5.47785000e-03\n",
      "  -1.03400977e-01 -1.62602500e-01 -3.05016588e-01 -2.94329390e-01\n",
      "  -1.75782200e-01 -2.51532233e-01  1.00988850e-01 -3.91186250e-02]\n",
      " [-1.40935961e-01  3.08815000e-01 -7.31016667e-03 -9.44894444e-02\n",
      "  -4.66108889e-02  1.73072778e-02  2.09441056e-01 -5.24592278e-02\n",
      "   6.17430222e-02 -1.62611111e-02 -5.79261444e-02 -7.76322222e-02\n",
      "   7.45652778e-02  3.97394278e-01 -4.05815000e-02  1.23629722e-01\n",
      "   4.17409611e-01 -7.11897222e-02 -2.21327900e-01  3.26266607e-01\n",
      "  -1.23218167e-02  1.20922778e-01 -9.36204444e-02 -9.93161667e-02\n",
      "  -2.15883917e-01  3.95918506e-01  7.99808667e-02 -2.86798111e-01\n",
      "  -2.02483967e-01 -5.51195556e-02  2.72813333e-02  3.87263806e-01\n",
      "  -2.32326667e-02 -1.68521000e-01  1.62886333e-01  3.10167789e-01\n",
      "  -4.63801111e-02  1.16186889e-01  1.33721622e-01 -2.27273667e-01\n",
      "  -9.97651667e-02 -4.69244667e-01  1.55536667e-01 -4.69956567e-01\n",
      "   1.31100889e-01  2.12726056e-01 -1.10151561e-01 -1.96821389e-01\n",
      "  -4.89249444e-02 -5.70797350e-01  1.16153667e-01 -4.96066111e-02\n",
      "  -7.35864778e-02  7.09519833e-01 -2.73917728e-01 -1.29430206e+00\n",
      "  -2.13905437e-01 -1.02209444e-02  9.37829444e-01  1.08247167e-01\n",
      "   1.22202344e-01  6.40121000e-01 -1.64143389e-01  1.03974278e-01\n",
      "   4.35140611e-01 -3.49247278e-01  5.50885556e-01 -1.52782444e-01\n",
      "   3.27399444e-02 -3.74378000e-01  7.75072222e-03  1.23465500e-02\n",
      "   6.18880556e-02 -2.98086111e-02 -8.95719435e-02  3.28424778e-01\n",
      "  -7.03289111e-02 -2.98928783e-01 -5.34717833e-01  2.34746722e-01\n",
      "   3.53536222e-01 -1.56482167e-01 -5.49402722e-01  1.80357722e-01\n",
      "  -8.34313389e-01 -1.81454339e-01  3.15101278e-01  7.97065556e-02\n",
      "  -2.36524333e-01  4.31358889e-02 -9.77651667e-02 -1.64305611e-01\n",
      "  -2.91254389e-01 -7.62221500e-02 -3.67354833e-01 -2.79984667e-01\n",
      "  -3.18817611e-01 -3.85050167e-01  3.18541056e-01  3.94450444e-01]\n",
      " [-1.05638615e-01  2.74950000e-01  5.25146154e-02 -8.42107692e-02\n",
      "  -8.54756154e-02 -2.30315385e-01  7.35906154e-02 -1.39826446e-01\n",
      "  -1.98838769e-01 -2.12714154e-01 -9.77959231e-02 -9.84668462e-02\n",
      "  -9.68446154e-02 -4.63831538e-02  3.77816462e-01 -7.27072308e-02\n",
      "  -1.48541154e-01  3.23446154e-02 -8.86630769e-02  3.56910000e-01\n",
      "   1.26504385e-01  7.17348462e-02  8.55958462e-02 -1.72661315e-01\n",
      "   4.37897385e-01  6.17394538e-01 -3.51477462e-01 -1.89426769e-01\n",
      "  -2.19606154e-02 -3.29372308e-01 -2.02002538e-01  2.15554462e-01\n",
      "   1.46681231e-01 -2.10007615e-01  1.52467769e-01  8.55165385e-02\n",
      "   3.73646923e-02  1.82614000e-01  2.24622308e-02 -2.04364231e-01\n",
      "   3.13579769e-01 -1.21034923e-01  6.24985385e-02 -2.71186154e-01\n",
      "  -3.30109231e-02  9.79793846e-02 -2.71170308e-01  2.65649077e-02\n",
      "   3.36640089e-01  4.32174615e-03  8.74792308e-02  3.03363000e-01\n",
      "   4.80723846e-02  5.68271538e-01 -2.12029523e-01 -1.24845077e+00\n",
      "  -8.99998923e-02  7.18758462e-03  8.28793154e-01  5.59992615e-02\n",
      "  -1.17597338e-02  2.43502308e-01 -3.24532462e-01  1.99347692e-01\n",
      "   5.09839269e-01 -1.98918538e-01  3.25355385e-01 -3.75448462e-02\n",
      "   2.08200769e-02 -3.19642308e-01 -8.92269231e-02 -1.82895385e-01\n",
      "  -8.66615385e-03 -4.90841538e-02  4.61329692e-02  1.57246000e-01\n",
      "  -1.74740154e-01 -6.17360769e-02 -3.97369077e-01  1.80919023e-01\n",
      "   3.37673769e-01 -7.63414615e-02  1.05552308e-01  1.26484892e-01\n",
      "  -6.99140769e-01 -2.13772615e-01  1.76086154e-01 -2.93757431e-01\n",
      "  -3.26960538e-01 -2.06401462e-01 -1.72718154e-01  2.14539462e-01\n",
      "  -2.49268692e-01 -3.57952923e-01 -3.09641154e-01 -2.08904615e-01\n",
      "  -1.44079923e-01 -1.78700385e-01  1.97934200e-01  4.53247077e-01]]\n"
     ]
    }
   ],
   "source": [
    "# Function to get sentence vector by averaging GloVe word vectors\n",
    "def get_sentence_vector_glove(sentence, glove_model, vector_size=100):\n",
    "    words = [word for word in sentence if word in glove_model]  # Filter words in GloVe vocab\n",
    "    if words:\n",
    "        return np.mean([glove_model[word] for word in words], axis=0)\n",
    "    else:\n",
    "        return np.zeros(vector_size)\n",
    "\n",
    "# Apply this function to your lemmatized text\n",
    "test_data['sentence_vector'] = test_data['text_lemmetized'].apply(lambda x: get_sentence_vector_glove(x, glove_model))\n",
    "\n",
    "# Convert to a NumPy array for further usage\n",
    "features_glove = np.vstack(test_data['sentence_vector'].values)\n",
    "\n",
    "# Check the shape and some sample vectors\n",
    "print(features_glove.shape)\n",
    "print(features_glove[:5])"
   ]
  },
  {
   "cell_type": "markdown",
   "id": "5326e8d7-ab3c-4ad4-b009-24348ea0f48f",
   "metadata": {},
   "source": [
    "## 5.Feature Engineering"
   ]
  },
  {
   "cell_type": "code",
   "execution_count": 44,
   "id": "6c53eebd-c738-4bb4-9772-edbf30137e8d",
   "metadata": {},
   "outputs": [],
   "source": [
    "def count_punct(text):\n",
    "    count = sum([ 1 for char in text if char in string.punctuation])\n",
    "    return round(count/(len(text)-text.count(\" \")),3)*100\n",
    "def count_Cap(text):\n",
    "    count = sum([ 1 for char in text if char.isupper()])\n",
    "    return round(count/(len(text)-text.count(\" \")),3)*100"
   ]
  },
  {
   "cell_type": "code",
   "execution_count": 45,
   "id": "e6fbf7d7-9a5d-4f59-827f-7be27b9cf86c",
   "metadata": {},
   "outputs": [
    {
     "data": {
      "text/html": [
       "<div>\n",
       "<style scoped>\n",
       "    .dataframe tbody tr th:only-of-type {\n",
       "        vertical-align: middle;\n",
       "    }\n",
       "\n",
       "    .dataframe tbody tr th {\n",
       "        vertical-align: top;\n",
       "    }\n",
       "\n",
       "    .dataframe thead th {\n",
       "        text-align: right;\n",
       "    }\n",
       "</style>\n",
       "<table border=\"1\" class=\"dataframe\">\n",
       "  <thead>\n",
       "    <tr style=\"text-align: right;\">\n",
       "      <th></th>\n",
       "      <th>Id</th>\n",
       "      <th>Score</th>\n",
       "      <th>Text</th>\n",
       "      <th>nopunct_text</th>\n",
       "      <th>text_tokenized</th>\n",
       "      <th>text_tokenized_without_stopword</th>\n",
       "      <th>text_stemmed</th>\n",
       "      <th>text_lemmetized</th>\n",
       "      <th>lemmatized_str</th>\n",
       "      <th>body_len</th>\n",
       "      <th>Cap%</th>\n",
       "      <th>punct%</th>\n",
       "    </tr>\n",
       "  </thead>\n",
       "  <tbody>\n",
       "    <tr>\n",
       "      <th>0</th>\n",
       "      <td>1</td>\n",
       "      <td>5</td>\n",
       "      <td>I have bought several of the Vitality canned d...</td>\n",
       "      <td>i have bought several of the vitality canned d...</td>\n",
       "      <td>[i, have, bought, several, of, the, vitality, ...</td>\n",
       "      <td>[bought, several, vitality, canned, dog, food,...</td>\n",
       "      <td>[bought, sever, vital, can, dog, food, product...</td>\n",
       "      <td>[bought, several, vitality, canned, dog, food,...</td>\n",
       "      <td>bought several vitality canned dog food produc...</td>\n",
       "      <td>215</td>\n",
       "      <td>2.3</td>\n",
       "      <td>1.4</td>\n",
       "    </tr>\n",
       "    <tr>\n",
       "      <th>1</th>\n",
       "      <td>2</td>\n",
       "      <td>1</td>\n",
       "      <td>Product arrived labeled as Jumbo Salted Peanut...</td>\n",
       "      <td>product arrived labeled as jumbo salted peanut...</td>\n",
       "      <td>[product, arrived, labeled, as, jumbo, salted,...</td>\n",
       "      <td>[product, arrived, labeled, jumbo, salted, pea...</td>\n",
       "      <td>[product, arriv, label, jumbo, salt, peanutsth...</td>\n",
       "      <td>[product, arrived, labeled, jumbo, salted, pea...</td>\n",
       "      <td>product arrived labeled jumbo salted peanutsth...</td>\n",
       "      <td>160</td>\n",
       "      <td>3.7</td>\n",
       "      <td>4.4</td>\n",
       "    </tr>\n",
       "    <tr>\n",
       "      <th>2</th>\n",
       "      <td>3</td>\n",
       "      <td>4</td>\n",
       "      <td>This is a confection that has been around a fe...</td>\n",
       "      <td>this is a confection that has been around a fe...</td>\n",
       "      <td>[this, is, a, confection, that, has, been, aro...</td>\n",
       "      <td>[confection, around, centuries, light, pillowy...</td>\n",
       "      <td>[confect, around, centuri, light, pillowi, cit...</td>\n",
       "      <td>[confection, around, century, light, pillowy, ...</td>\n",
       "      <td>confection around century light pillowy citrus...</td>\n",
       "      <td>411</td>\n",
       "      <td>5.1</td>\n",
       "      <td>4.4</td>\n",
       "    </tr>\n",
       "    <tr>\n",
       "      <th>3</th>\n",
       "      <td>4</td>\n",
       "      <td>2</td>\n",
       "      <td>If you are looking for the secret ingredient i...</td>\n",
       "      <td>if you are looking for the secret ingredient i...</td>\n",
       "      <td>[if, you, are, looking, for, the, secret, ingr...</td>\n",
       "      <td>[looking, secret, ingredient, robitussin, beli...</td>\n",
       "      <td>[look, secret, ingredi, robitussin, believ, fo...</td>\n",
       "      <td>[looking, secret, ingredient, robitussin, beli...</td>\n",
       "      <td>looking secret ingredient robitussin believe f...</td>\n",
       "      <td>177</td>\n",
       "      <td>5.6</td>\n",
       "      <td>2.8</td>\n",
       "    </tr>\n",
       "    <tr>\n",
       "      <th>4</th>\n",
       "      <td>5</td>\n",
       "      <td>5</td>\n",
       "      <td>Great taffy at a great price.  There was a wid...</td>\n",
       "      <td>great taffy at a great price  there was a wide...</td>\n",
       "      <td>[great, taffy, at, a, great, price, there, was...</td>\n",
       "      <td>[great, taffy, great, price, wide, assortment,...</td>\n",
       "      <td>[great, taffi, great, price, wide, assort, yum...</td>\n",
       "      <td>[great, taffy, great, price, wide, assortment,...</td>\n",
       "      <td>great taffy great price wide assortment yummy ...</td>\n",
       "      <td>111</td>\n",
       "      <td>3.6</td>\n",
       "      <td>4.5</td>\n",
       "    </tr>\n",
       "  </tbody>\n",
       "</table>\n",
       "</div>"
      ],
      "text/plain": [
       "   Id  Score                                               Text  \\\n",
       "0   1      5  I have bought several of the Vitality canned d...   \n",
       "1   2      1  Product arrived labeled as Jumbo Salted Peanut...   \n",
       "2   3      4  This is a confection that has been around a fe...   \n",
       "3   4      2  If you are looking for the secret ingredient i...   \n",
       "4   5      5  Great taffy at a great price.  There was a wid...   \n",
       "\n",
       "                                        nopunct_text  \\\n",
       "0  i have bought several of the vitality canned d...   \n",
       "1  product arrived labeled as jumbo salted peanut...   \n",
       "2  this is a confection that has been around a fe...   \n",
       "3  if you are looking for the secret ingredient i...   \n",
       "4  great taffy at a great price  there was a wide...   \n",
       "\n",
       "                                      text_tokenized  \\\n",
       "0  [i, have, bought, several, of, the, vitality, ...   \n",
       "1  [product, arrived, labeled, as, jumbo, salted,...   \n",
       "2  [this, is, a, confection, that, has, been, aro...   \n",
       "3  [if, you, are, looking, for, the, secret, ingr...   \n",
       "4  [great, taffy, at, a, great, price, there, was...   \n",
       "\n",
       "                     text_tokenized_without_stopword  \\\n",
       "0  [bought, several, vitality, canned, dog, food,...   \n",
       "1  [product, arrived, labeled, jumbo, salted, pea...   \n",
       "2  [confection, around, centuries, light, pillowy...   \n",
       "3  [looking, secret, ingredient, robitussin, beli...   \n",
       "4  [great, taffy, great, price, wide, assortment,...   \n",
       "\n",
       "                                        text_stemmed  \\\n",
       "0  [bought, sever, vital, can, dog, food, product...   \n",
       "1  [product, arriv, label, jumbo, salt, peanutsth...   \n",
       "2  [confect, around, centuri, light, pillowi, cit...   \n",
       "3  [look, secret, ingredi, robitussin, believ, fo...   \n",
       "4  [great, taffi, great, price, wide, assort, yum...   \n",
       "\n",
       "                                     text_lemmetized  \\\n",
       "0  [bought, several, vitality, canned, dog, food,...   \n",
       "1  [product, arrived, labeled, jumbo, salted, pea...   \n",
       "2  [confection, around, century, light, pillowy, ...   \n",
       "3  [looking, secret, ingredient, robitussin, beli...   \n",
       "4  [great, taffy, great, price, wide, assortment,...   \n",
       "\n",
       "                                      lemmatized_str  body_len  Cap%  punct%  \n",
       "0  bought several vitality canned dog food produc...       215   2.3     1.4  \n",
       "1  product arrived labeled jumbo salted peanutsth...       160   3.7     4.4  \n",
       "2  confection around century light pillowy citrus...       411   5.1     4.4  \n",
       "3  looking secret ingredient robitussin believe f...       177   5.6     2.8  \n",
       "4  great taffy great price wide assortment yummy ...       111   3.6     4.5  "
      ]
     },
     "execution_count": 45,
     "metadata": {},
     "output_type": "execute_result"
    }
   ],
   "source": [
    "test_data['body_len'] = test_data['Text'].apply(lambda x: len(x) - x.count(\" \"))\n",
    "test_data['Cap%'] = test_data['Text'].apply(lambda x: count_Cap(x))\n",
    "test_data['punct%'] = test_data['Text'].apply(lambda x: count_punct(x))\n",
    "test_data.head()"
   ]
  },
  {
   "cell_type": "markdown",
   "id": "c0a517ed-0338-4ac8-baf4-2ad879a7a6c3",
   "metadata": {},
   "source": [
    "## 6.Modeling"
   ]
  },
  {
   "cell_type": "markdown",
   "id": "a6b961da-bd65-4a52-9df6-cf161c743642",
   "metadata": {},
   "source": [
    "1. Random Forrest (Origin data )\n",
    "2. VADER (Valence Aware Dictionary and sEntiment Reasoner) - Bag of words approach\n",
    "3. Roberta Pretrained Model \n",
    "4. Huggingface Pipeline"
   ]
  },
  {
   "cell_type": "markdown",
   "id": "2a89c988-a540-4b9f-a812-ccffa15a386e",
   "metadata": {},
   "source": [
    "## step 1 . Random Forrest "
   ]
  },
  {
   "cell_type": "code",
   "execution_count": 46,
   "id": "f930d6ff-7159-43ac-ac75-7b0f1da12d56",
   "metadata": {},
   "outputs": [],
   "source": [
    "target = test_data['Score']\n",
    "final_df = test_data[['Cap%','body_len','punct%']]"
   ]
  },
  {
   "cell_type": "markdown",
   "id": "1abffd4e-5ddb-49a6-9866-0e507844c41a",
   "metadata": {},
   "source": [
    "### Random Forrest using tf-idf vectorization"
   ]
  },
  {
   "cell_type": "code",
   "execution_count": 47,
   "id": "b5264fb5-3486-4438-89cc-478891770f75",
   "metadata": {},
   "outputs": [],
   "source": [
    "# final_df.reset_index(drop=True, inplace=True)\n",
    "# features_tf.reset_index(drop=True, inplace=True)\n",
    "# final_df= pd.concat([final_df, pd.DataFrame(features_tf)], axis=1)"
   ]
  },
  {
   "cell_type": "code",
   "execution_count": 48,
   "id": "1f077841-bbb3-4738-977e-c767ac53f028",
   "metadata": {},
   "outputs": [
    {
     "data": {
      "text/plain": [
       "0.5096"
      ]
     },
     "execution_count": 48,
     "metadata": {},
     "output_type": "execute_result"
    }
   ],
   "source": [
    "X_train ,X_test ,y_train , y_test = train_test_split(features_tf,target,test_size=0.25)\n",
    "rf_model = RandomForestClassifier(n_jobs= -1)\n",
    "\n",
    "rf_model.fit(X_train,y_train)\n",
    "\n",
    "rf_model.score(X_test,y_test)"
   ]
  },
  {
   "cell_type": "markdown",
   "id": "4b7304fc-565d-41f5-9250-6d0cc303b0ef",
   "metadata": {},
   "source": [
    "## Random Forrest using word-2vec vectorization"
   ]
  },
  {
   "cell_type": "code",
   "execution_count": 54,
   "id": "3a1c3f30-45e5-419f-b579-04593a067d70",
   "metadata": {},
   "outputs": [
    {
     "data": {
      "text/plain": [
       "0.4664"
      ]
     },
     "execution_count": 54,
     "metadata": {},
     "output_type": "execute_result"
    }
   ],
   "source": [
    "# Perform train-test split\n",
    "X_train, X_test, y_train, y_test = train_test_split(features_word2vec, target, test_size=0.25, random_state=42)\n",
    "\n",
    "# Step 2: Initialize the RandomForest model\n",
    "rf_model2 = RandomForestClassifier(n_jobs=-1, random_state=42)\n",
    "# Fit the Random Forest model\n",
    "rf_model2.fit(X_train, y_train)\n",
    "# Make predictions\n",
    "rf_model2.score(X_test,y_test)"
   ]
  },
  {
   "cell_type": "markdown",
   "id": "194bded9-3c33-4f13-8b33-77018cf11685",
   "metadata": {},
   "source": [
    "## Random Forrest using FastText vectorization"
   ]
  },
  {
   "cell_type": "code",
   "execution_count": 55,
   "id": "081f8504-e267-42bd-a5d2-e36d4f271bdd",
   "metadata": {},
   "outputs": [
    {
     "data": {
      "text/plain": [
       "0.45712"
      ]
     },
     "execution_count": 55,
     "metadata": {},
     "output_type": "execute_result"
    }
   ],
   "source": [
    "# Perform train-test split\n",
    "X_train, X_test, y_train, y_test = train_test_split(features_fasttext, target, test_size=0.25, random_state=42)\n",
    "\n",
    "# Step 2: Initialize the RandomForest model\n",
    "rf_model2 = RandomForestClassifier(n_jobs=-1, random_state=42)\n",
    "# Fit the Random Forest model\n",
    "rf_model2.fit(X_train, y_train)\n",
    "# Make predictions\n",
    "rf_model2.score(X_test,y_test)"
   ]
  },
  {
   "cell_type": "markdown",
   "id": "bfc4fa27-57dc-43f3-accb-96cb098d2344",
   "metadata": {},
   "source": [
    "## Random Forrest using Glove vectorization"
   ]
  },
  {
   "cell_type": "code",
   "execution_count": 57,
   "id": "1e7c34f4-11e2-4e77-9fe8-3ca040111931",
   "metadata": {},
   "outputs": [
    {
     "name": "stdout",
     "output_type": "stream",
     "text": [
      "Model score: 0.44208\n"
     ]
    }
   ],
   "source": [
    "# Perform train-test split\n",
    "X_train, X_test, y_train, y_test = train_test_split(features_glove, target, test_size=0.25, random_state=42)\n",
    "\n",
    "# Train RandomForest model\n",
    "model = RandomForestClassifier(random_state=42)\n",
    "model.fit(X_train, y_train)\n",
    "# Evaluate the model\n",
    "score = model.score(X_test, y_test)\n",
    "print(f\"Model score: {score}\")"
   ]
  },
  {
   "cell_type": "code",
   "execution_count": null,
   "id": "f1d14cb7-3abd-45d2-b6b4-6d0df151521f",
   "metadata": {},
   "outputs": [],
   "source": []
  },
  {
   "cell_type": "code",
   "execution_count": null,
   "id": "a7e01af3-cef5-4546-8161-4181ec615120",
   "metadata": {},
   "outputs": [],
   "source": []
  },
  {
   "cell_type": "markdown",
   "id": "f2c66eab-699c-4595-8049-7f133e24bb5a",
   "metadata": {},
   "source": [
    "### Step 2. VADER Seniment Scoring\n",
    "\n",
    "We will use NLTK's `SentimentIntensityAnalyzer` to get the neg/neu/pos scores of the text.\n",
    "\n",
    "- This uses a \"bag of words\" approach:\n",
    "    1. Stop words are removed\n",
    "    2. each word is scored and combined to a total score."
   ]
  },
  {
   "cell_type": "code",
   "execution_count": 93,
   "id": "f3940f9a-1e5a-4053-95bb-5bfe25711af3",
   "metadata": {},
   "outputs": [
    {
     "name": "stderr",
     "output_type": "stream",
     "text": [
      "[nltk_data] Downloading package vader_lexicon to\n",
      "[nltk_data]     C:\\Users\\abdel\\AppData\\Roaming\\nltk_data...\n"
     ]
    },
    {
     "data": {
      "text/plain": [
       "True"
      ]
     },
     "execution_count": 93,
     "metadata": {},
     "output_type": "execute_result"
    }
   ],
   "source": [
    "# nltk.download('vader_lexicon')"
   ]
  },
  {
   "cell_type": "code",
   "execution_count": 173,
   "id": "db0dcf96-f02c-44b1-ae61-b0d7ae82ec80",
   "metadata": {},
   "outputs": [],
   "source": [
    "from nltk.sentiment import SentimentIntensityAnalyzer\n",
    "from tqdm.notebook import tqdm\n",
    "\n",
    "sia = SentimentIntensityAnalyzer()"
   ]
  },
  {
   "cell_type": "code",
   "execution_count": 174,
   "id": "a01c6b03-ca80-43bd-81ad-5413efd169fb",
   "metadata": {},
   "outputs": [],
   "source": [
    "example = data.loc[100, ['Text', 'Score']]"
   ]
  },
  {
   "cell_type": "code",
   "execution_count": 175,
   "id": "7b8dd792-a2aa-4501-9cf9-ab5e0a033627",
   "metadata": {},
   "outputs": [
    {
     "data": {
      "text/plain": [
       "{'neg': 0.0, 'neu': 0.807, 'pos': 0.193, 'compound': 0.7717}"
      ]
     },
     "execution_count": 175,
     "metadata": {},
     "output_type": "execute_result"
    }
   ],
   "source": [
    "sia.polarity_scores(example['Text'])"
   ]
  },
  {
   "cell_type": "code",
   "execution_count": 176,
   "id": "bd6a1a3f-2862-46f7-8d78-a1d4999282af",
   "metadata": {},
   "outputs": [
    {
     "data": {
      "text/plain": [
       "Text     The mouth says, \"How do I love thee, let me co...\n",
       "Score                                                    5\n",
       "Name: 100, dtype: object"
      ]
     },
     "execution_count": 176,
     "metadata": {},
     "output_type": "execute_result"
    }
   ],
   "source": [
    "example"
   ]
  },
  {
   "cell_type": "code",
   "execution_count": 177,
   "id": "4fa33549-62f1-4216-a6f4-8f65b59bb007",
   "metadata": {},
   "outputs": [
    {
     "data": {
      "application/vnd.jupyter.widget-view+json": {
       "model_id": "42d71eebcdbb41f986f6c4f04608fbca",
       "version_major": 2,
       "version_minor": 0
      },
      "text/plain": [
       "  0%|          | 0/25000 [00:00<?, ?it/s]"
      ]
     },
     "metadata": {},
     "output_type": "display_data"
    }
   ],
   "source": [
    "# Run the polarity score on the entire dataset\n",
    "res = {}\n",
    "for i, row in tqdm(df.iterrows(), total=len(df)):\n",
    "    text = row['Text']\n",
    "    myid = i+ 1  # Utiliser l'index de la ligne comme clé unique\n",
    "    res[myid] = sia.polarity_scores(text)\n"
   ]
  },
  {
   "cell_type": "code",
   "execution_count": 178,
   "id": "b9bf8319-4a96-4e32-b231-0c4fc92c56ab",
   "metadata": {},
   "outputs": [],
   "source": [
    "vaders = pd.DataFrame(res).T\n",
    "vaders = vaders.reset_index().rename(columns={'index': 'Id'})\n",
    "vaders = vaders.merge(test_data, how='left')"
   ]
  },
  {
   "cell_type": "code",
   "execution_count": 179,
   "id": "0dd4eac7-01ea-470e-b316-0a16aadefc28",
   "metadata": {},
   "outputs": [
    {
     "data": {
      "text/html": [
       "<div>\n",
       "<style scoped>\n",
       "    .dataframe tbody tr th:only-of-type {\n",
       "        vertical-align: middle;\n",
       "    }\n",
       "\n",
       "    .dataframe tbody tr th {\n",
       "        vertical-align: top;\n",
       "    }\n",
       "\n",
       "    .dataframe thead th {\n",
       "        text-align: right;\n",
       "    }\n",
       "</style>\n",
       "<table border=\"1\" class=\"dataframe\">\n",
       "  <thead>\n",
       "    <tr style=\"text-align: right;\">\n",
       "      <th></th>\n",
       "      <th>Id</th>\n",
       "      <th>neg</th>\n",
       "      <th>neu</th>\n",
       "      <th>pos</th>\n",
       "      <th>compound</th>\n",
       "      <th>Score</th>\n",
       "      <th>Text</th>\n",
       "      <th>nopunct_text</th>\n",
       "      <th>text_tokenized</th>\n",
       "      <th>text_tokenized_without_stopword</th>\n",
       "      <th>text_lemmetized</th>\n",
       "      <th>body_len</th>\n",
       "      <th>Cap%</th>\n",
       "      <th>punct%</th>\n",
       "      <th>lemmatized_str</th>\n",
       "      <th>sentence_vector</th>\n",
       "    </tr>\n",
       "  </thead>\n",
       "  <tbody>\n",
       "    <tr>\n",
       "      <th>0</th>\n",
       "      <td>1</td>\n",
       "      <td>0.000</td>\n",
       "      <td>0.695</td>\n",
       "      <td>0.305</td>\n",
       "      <td>0.9441</td>\n",
       "      <td>5</td>\n",
       "      <td>I have bought several of the Vitality canned d...</td>\n",
       "      <td>i have bought several of the vitality canned d...</td>\n",
       "      <td>[i, have, bought, several, of, the, vitality, ...</td>\n",
       "      <td>[bought, several, vitality, canned, dog, food,...</td>\n",
       "      <td>[bought, several, vitality, canned, dog, food,...</td>\n",
       "      <td>215</td>\n",
       "      <td>2.3</td>\n",
       "      <td>1.4</td>\n",
       "      <td>bought several vitality canned dog food produc...</td>\n",
       "      <td>[-0.20829986, 0.13231038, -0.95658606, 0.23471...</td>\n",
       "    </tr>\n",
       "    <tr>\n",
       "      <th>1</th>\n",
       "      <td>2</td>\n",
       "      <td>0.138</td>\n",
       "      <td>0.862</td>\n",
       "      <td>0.000</td>\n",
       "      <td>-0.5664</td>\n",
       "      <td>1</td>\n",
       "      <td>Product arrived labeled as Jumbo Salted Peanut...</td>\n",
       "      <td>product arrived labeled as jumbo salted peanut...</td>\n",
       "      <td>[product, arrived, labeled, as, jumbo, salted,...</td>\n",
       "      <td>[product, arrived, labeled, jumbo, salted, pea...</td>\n",
       "      <td>[product, arrived, labeled, jumbo, salted, pea...</td>\n",
       "      <td>160</td>\n",
       "      <td>3.7</td>\n",
       "      <td>4.4</td>\n",
       "      <td>product arrived labeled jumbo salted peanutsth...</td>\n",
       "      <td>[-0.20867243, 0.022678688, -0.36443514, -0.068...</td>\n",
       "    </tr>\n",
       "    <tr>\n",
       "      <th>2</th>\n",
       "      <td>3</td>\n",
       "      <td>0.091</td>\n",
       "      <td>0.754</td>\n",
       "      <td>0.155</td>\n",
       "      <td>0.8265</td>\n",
       "      <td>4</td>\n",
       "      <td>This is a confection that has been around a fe...</td>\n",
       "      <td>this is a confection that has been around a fe...</td>\n",
       "      <td>[this, is, a, confection, that, has, been, aro...</td>\n",
       "      <td>[confection, around, centuries, light, pillowy...</td>\n",
       "      <td>[confection, around, century, light, pillowy, ...</td>\n",
       "      <td>411</td>\n",
       "      <td>5.1</td>\n",
       "      <td>4.4</td>\n",
       "      <td>confection around century light pillowy citrus...</td>\n",
       "      <td>[-0.2372174, -0.05466761, -0.19199142, 0.03824...</td>\n",
       "    </tr>\n",
       "    <tr>\n",
       "      <th>3</th>\n",
       "      <td>4</td>\n",
       "      <td>0.000</td>\n",
       "      <td>1.000</td>\n",
       "      <td>0.000</td>\n",
       "      <td>0.0000</td>\n",
       "      <td>2</td>\n",
       "      <td>If you are looking for the secret ingredient i...</td>\n",
       "      <td>if you are looking for the secret ingredient i...</td>\n",
       "      <td>[if, you, are, looking, for, the, secret, ingr...</td>\n",
       "      <td>[looking, secret, ingredient, robitussin, beli...</td>\n",
       "      <td>[looking, secret, ingredient, robitussin, beli...</td>\n",
       "      <td>177</td>\n",
       "      <td>5.6</td>\n",
       "      <td>2.8</td>\n",
       "      <td>looking secret ingredient robitussin believe f...</td>\n",
       "      <td>[-0.3760432, -0.17254294, -0.5207866, 0.242573...</td>\n",
       "    </tr>\n",
       "    <tr>\n",
       "      <th>4</th>\n",
       "      <td>5</td>\n",
       "      <td>0.000</td>\n",
       "      <td>0.552</td>\n",
       "      <td>0.448</td>\n",
       "      <td>0.9468</td>\n",
       "      <td>5</td>\n",
       "      <td>Great taffy at a great price.  There was a wid...</td>\n",
       "      <td>great taffy at a great price  there was a wide...</td>\n",
       "      <td>[great, taffy, at, a, great, price, there, was...</td>\n",
       "      <td>[great, taffy, great, price, wide, assortment,...</td>\n",
       "      <td>[great, taffy, great, price, wide, assortment,...</td>\n",
       "      <td>111</td>\n",
       "      <td>3.6</td>\n",
       "      <td>4.5</td>\n",
       "      <td>great taffy great price wide assortment yummy ...</td>\n",
       "      <td>[-0.13722515, -0.046650317, -0.6052174, -0.025...</td>\n",
       "    </tr>\n",
       "  </tbody>\n",
       "</table>\n",
       "</div>"
      ],
      "text/plain": [
       "   Id    neg    neu    pos  compound  Score  \\\n",
       "0   1  0.000  0.695  0.305    0.9441      5   \n",
       "1   2  0.138  0.862  0.000   -0.5664      1   \n",
       "2   3  0.091  0.754  0.155    0.8265      4   \n",
       "3   4  0.000  1.000  0.000    0.0000      2   \n",
       "4   5  0.000  0.552  0.448    0.9468      5   \n",
       "\n",
       "                                                Text  \\\n",
       "0  I have bought several of the Vitality canned d...   \n",
       "1  Product arrived labeled as Jumbo Salted Peanut...   \n",
       "2  This is a confection that has been around a fe...   \n",
       "3  If you are looking for the secret ingredient i...   \n",
       "4  Great taffy at a great price.  There was a wid...   \n",
       "\n",
       "                                        nopunct_text  \\\n",
       "0  i have bought several of the vitality canned d...   \n",
       "1  product arrived labeled as jumbo salted peanut...   \n",
       "2  this is a confection that has been around a fe...   \n",
       "3  if you are looking for the secret ingredient i...   \n",
       "4  great taffy at a great price  there was a wide...   \n",
       "\n",
       "                                      text_tokenized  \\\n",
       "0  [i, have, bought, several, of, the, vitality, ...   \n",
       "1  [product, arrived, labeled, as, jumbo, salted,...   \n",
       "2  [this, is, a, confection, that, has, been, aro...   \n",
       "3  [if, you, are, looking, for, the, secret, ingr...   \n",
       "4  [great, taffy, at, a, great, price, there, was...   \n",
       "\n",
       "                     text_tokenized_without_stopword  \\\n",
       "0  [bought, several, vitality, canned, dog, food,...   \n",
       "1  [product, arrived, labeled, jumbo, salted, pea...   \n",
       "2  [confection, around, centuries, light, pillowy...   \n",
       "3  [looking, secret, ingredient, robitussin, beli...   \n",
       "4  [great, taffy, great, price, wide, assortment,...   \n",
       "\n",
       "                                     text_lemmetized  body_len  Cap%  punct%  \\\n",
       "0  [bought, several, vitality, canned, dog, food,...       215   2.3     1.4   \n",
       "1  [product, arrived, labeled, jumbo, salted, pea...       160   3.7     4.4   \n",
       "2  [confection, around, century, light, pillowy, ...       411   5.1     4.4   \n",
       "3  [looking, secret, ingredient, robitussin, beli...       177   5.6     2.8   \n",
       "4  [great, taffy, great, price, wide, assortment,...       111   3.6     4.5   \n",
       "\n",
       "                                      lemmatized_str  \\\n",
       "0  bought several vitality canned dog food produc...   \n",
       "1  product arrived labeled jumbo salted peanutsth...   \n",
       "2  confection around century light pillowy citrus...   \n",
       "3  looking secret ingredient robitussin believe f...   \n",
       "4  great taffy great price wide assortment yummy ...   \n",
       "\n",
       "                                     sentence_vector  \n",
       "0  [-0.20829986, 0.13231038, -0.95658606, 0.23471...  \n",
       "1  [-0.20867243, 0.022678688, -0.36443514, -0.068...  \n",
       "2  [-0.2372174, -0.05466761, -0.19199142, 0.03824...  \n",
       "3  [-0.3760432, -0.17254294, -0.5207866, 0.242573...  \n",
       "4  [-0.13722515, -0.046650317, -0.6052174, -0.025...  "
      ]
     },
     "execution_count": 179,
     "metadata": {},
     "output_type": "execute_result"
    }
   ],
   "source": [
    "vaders.head()"
   ]
  },
  {
   "cell_type": "code",
   "execution_count": 181,
   "id": "5476712f-eb20-4ac0-9107-bb3fad20c7f8",
   "metadata": {},
   "outputs": [
    {
     "data": {
      "image/png": "[encoded data removed]",
      "text/plain": [
       "<Figure size 640x480 with 1 Axes>"
      ]
     },
     "metadata": {},
     "output_type": "display_data"
    }
   ],
   "source": [
    "ax = sns.barplot(data=vaders, x='Score', y='compound')\n",
    "ax.set_title('Compund Score by Amazon Star Review')\n",
    "plt.show()"
   ]
  },
  {
   "cell_type": "code",
   "execution_count": 182,
   "id": "481be579-fc4a-4102-8483-9e0ea37b100d",
   "metadata": {},
   "outputs": [
    {
     "data": {
      "image/png": "[encoded data removed]",
      "text/plain": [
       "<Figure size 1200x300 with 3 Axes>"
      ]
     },
     "metadata": {},
     "output_type": "display_data"
    }
   ],
   "source": [
    "fig, axs = plt.subplots(1, 3, figsize=(12, 3))\n",
    "sns.barplot(data=vaders, x='Score', y='pos', ax=axs[0])\n",
    "sns.barplot(data=vaders, x='Score', y='neu', ax=axs[1])\n",
    "sns.barplot(data=vaders, x='Score', y='neg', ax=axs[2])\n",
    "axs[0].set_title('Positive')\n",
    "axs[1].set_title('Neutral')\n",
    "axs[2].set_title('Negative')\n",
    "plt.tight_layout()\n",
    "plt.show()"
   ]
  },
  {
   "cell_type": "code",
   "execution_count": null,
   "id": "3e6c6158-cbc5-44b1-b513-29edd78b5888",
   "metadata": {},
   "outputs": [],
   "source": []
  },
  {
   "cell_type": "markdown",
   "id": "21324619-7f55-41d8-bff9-e1ead69258e2",
   "metadata": {},
   "source": [
    "# 2.2 RoBerta Pretrained Model\n",
    "\n",
    "- Use a model trained of a large corpus of data.\n",
    "- Transformer model accounts for the words but also the context related to other words."
   ]
  },
  {
   "cell_type": "code",
   "execution_count": 183,
   "id": "2deafac3-a69e-4c87-964b-34aa30d2ec16",
   "metadata": {},
   "outputs": [],
   "source": [
    "from transformers import AutoTokenizer\n",
    "from transformers import AutoModelForSequenceClassification\n",
    "from scipy.special import softmax"
   ]
  },
  {
   "cell_type": "code",
   "execution_count": 184,
   "id": "889eaddb-03cf-47d8-88bb-a550fed33db3",
   "metadata": {},
   "outputs": [
    {
     "name": "stderr",
     "output_type": "stream",
     "text": [
      "C:\\Users\\abdel\\anaconda\\Lib\\site-packages\\transformers\\tokenization_utils_base.py:1617: FutureWarning: `clean_up_tokenization_spaces` was not set. It will be set to `True` by default. This behavior will be deprecated in transformers v4.45, and will be then set to `False` by default. For more details check this issue: https://github.com/huggingface/transformers/issues/31884\n",
      "  warnings.warn(\n"
     ]
    }
   ],
   "source": [
    "MODEL = f\"cardiffnlp/twitter-roberta-base-sentiment\"\n",
    "tokenizer = AutoTokenizer.from_pretrained(MODEL)\n",
    "model = AutoModelForSequenceClassification.from_pretrained(MODEL)"
   ]
  },
  {
   "cell_type": "code",
   "execution_count": 185,
   "id": "09ccc6ca-4a85-4ea1-9c79-39ef8aa0df4c",
   "metadata": {},
   "outputs": [
    {
     "data": {
      "text/plain": [
       "Text        Great taffy at a great price.  There was a wid...\n",
       "neg                                                       0.0\n",
       "neu                                                     0.552\n",
       "pos                                                     0.448\n",
       "compound                                               0.9468\n",
       "Score                                                       5\n",
       "Name: 4, dtype: object"
      ]
     },
     "execution_count": 185,
     "metadata": {},
     "output_type": "execute_result"
    }
   ],
   "source": [
    "vaders.loc[4, ['Text', 'neg', 'neu', 'pos', 'compound', 'Score']]"
   ]
  },
  {
   "cell_type": "code",
   "execution_count": 186,
   "id": "65514d43-479f-48e9-ac8e-d9fba1b3e0c1",
   "metadata": {},
   "outputs": [
    {
     "data": {
      "text/plain": [
       "(25000, 16)"
      ]
     },
     "execution_count": 186,
     "metadata": {},
     "output_type": "execute_result"
    }
   ],
   "source": [
    "vaders.shape"
   ]
  },
  {
   "cell_type": "code",
   "execution_count": 187,
   "id": "cd61ad8b-4c9f-462c-b588-34890c55339d",
   "metadata": {},
   "outputs": [],
   "source": [
    "def polarity_scores_roberta(example):\n",
    "    encoded_text = tokenizer(example, return_tensors='pt')\n",
    "    output = model(**encoded_text)\n",
    "    scores = output[0][0].detach().numpy()\n",
    "    scores = softmax(scores)\n",
    "    scores_dict = {\n",
    "        'roberta_neg' : scores[0],\n",
    "        'roberta_neu' : scores[1],\n",
    "        'roberta_pos' : scores[2]\n",
    "    }\n",
    "    return scores_dict\n",
    "# Fonction pour extraire les scores de polarité\n",
    "def extract_roberta_scores(text):\n",
    "    result = polarity_scores_roberta(text)\n",
    "    return pd.Series([result['roberta_neg'], result['roberta_neu'], result['roberta_pos']])"
   ]
  },
  {
   "cell_type": "code",
   "execution_count": 188,
   "id": "ae8fd2ec-d21c-48ef-b254-543be04bf018",
   "metadata": {},
   "outputs": [
    {
     "data": {
      "text/plain": [
       "{'roberta_neg': 0.30692154,\n",
       " 'roberta_neu': 0.4565689,\n",
       " 'roberta_pos': 0.23650958}"
      ]
     },
     "execution_count": 188,
     "metadata": {},
     "output_type": "execute_result"
    }
   ],
   "source": [
    "roberta_result = polarity_scores_roberta(vaders.loc[100,'Text'])\n",
    "roberta_result"
   ]
  },
  {
   "cell_type": "code",
   "execution_count": 6,
   "id": "a2692126-719b-4fab-a392-94e2d228d5f0",
   "metadata": {},
   "outputs": [],
   "source": [
    "# res = {}\n",
    "# for i, row in tqdm(df.iterrows(), total=len(df)):\n",
    "#     try:\n",
    "#         text = row['Text']\n",
    "#         myid = i + 1\n",
    "#         vader_result = sia.polarity_scores(text)\n",
    "#         vader_result_rename = {}\n",
    "#         for key, value in vader_result.items():\n",
    "#             vader_result_rename[f\"vader_{key}\"] = value\n",
    "#         roberta_result = polarity_scores_roberta(text)\n",
    "#         both = {**vader_result_rename, **roberta_result}\n",
    "#         res[myid] = both\n",
    "#     except RuntimeError:\n",
    "#         print(f'Broke for id {myid}')  "
   ]
  },
  {
   "cell_type": "code",
   "execution_count": 190,
   "id": "2fec5b69-0702-40fd-824c-1e3d6c671661",
   "metadata": {},
   "outputs": [],
   "source": [
    "results_df = pd.DataFrame(res).T\n",
    "results_df = results_df.reset_index().rename(columns={'index': 'Id'})\n",
    "results_df = results_df.merge(vaders, how='left')"
   ]
  },
  {
   "cell_type": "code",
   "execution_count": 192,
   "id": "8e749028-b8e1-423e-81b7-d70da7fd3ae9",
   "metadata": {},
   "outputs": [
    {
     "data": {
      "text/html": [
       "<div>\n",
       "<style scoped>\n",
       "    .dataframe tbody tr th:only-of-type {\n",
       "        vertical-align: middle;\n",
       "    }\n",
       "\n",
       "    .dataframe tbody tr th {\n",
       "        vertical-align: top;\n",
       "    }\n",
       "\n",
       "    .dataframe thead th {\n",
       "        text-align: right;\n",
       "    }\n",
       "</style>\n",
       "<table border=\"1\" class=\"dataframe\">\n",
       "  <thead>\n",
       "    <tr style=\"text-align: right;\">\n",
       "      <th></th>\n",
       "      <th>Id</th>\n",
       "      <th>vader_neg</th>\n",
       "      <th>vader_neu</th>\n",
       "      <th>vader_pos</th>\n",
       "      <th>vader_compound</th>\n",
       "      <th>roberta_neg</th>\n",
       "      <th>roberta_neu</th>\n",
       "      <th>roberta_pos</th>\n",
       "      <th>neg</th>\n",
       "      <th>neu</th>\n",
       "      <th>...</th>\n",
       "      <th>Text</th>\n",
       "      <th>nopunct_text</th>\n",
       "      <th>text_tokenized</th>\n",
       "      <th>text_tokenized_without_stopword</th>\n",
       "      <th>text_lemmetized</th>\n",
       "      <th>body_len</th>\n",
       "      <th>Cap%</th>\n",
       "      <th>punct%</th>\n",
       "      <th>lemmatized_str</th>\n",
       "      <th>sentence_vector</th>\n",
       "    </tr>\n",
       "  </thead>\n",
       "  <tbody>\n",
       "    <tr>\n",
       "      <th>1449</th>\n",
       "      <td>1461</td>\n",
       "      <td>0.000</td>\n",
       "      <td>0.899</td>\n",
       "      <td>0.101</td>\n",
       "      <td>0.5574</td>\n",
       "      <td>0.038705</td>\n",
       "      <td>0.269752</td>\n",
       "      <td>0.691543</td>\n",
       "      <td>0.000</td>\n",
       "      <td>0.899</td>\n",
       "      <td>...</td>\n",
       "      <td>&lt;span class=\"tiny\"&gt; Length:: 1:38 Mins&lt;br /&gt;&lt;b...</td>\n",
       "      <td>span classtiny length 138 minsbr br spanskip t...</td>\n",
       "      <td>[span, classtiny, length, 138, minsbr, br, spa...</td>\n",
       "      <td>[span, classtiny, length, 138, minsbr, br, spa...</td>\n",
       "      <td>[span, classtiny, length, 138, minsbr, br, spa...</td>\n",
       "      <td>255</td>\n",
       "      <td>5.9</td>\n",
       "      <td>13.3</td>\n",
       "      <td>span classtiny length 138 minsbr br spanskip p...</td>\n",
       "      <td>[-0.14590682, 0.10049686, -0.30775544, 0.09861...</td>\n",
       "    </tr>\n",
       "    <tr>\n",
       "      <th>1450</th>\n",
       "      <td>1462</td>\n",
       "      <td>0.000</td>\n",
       "      <td>0.827</td>\n",
       "      <td>0.173</td>\n",
       "      <td>0.9661</td>\n",
       "      <td>0.004531</td>\n",
       "      <td>0.019198</td>\n",
       "      <td>0.976271</td>\n",
       "      <td>0.000</td>\n",
       "      <td>0.827</td>\n",
       "      <td>...</td>\n",
       "      <td>I love the McDougall Asian Entr&amp;eacute;es and ...</td>\n",
       "      <td>i love the mcdougall asian entreacutees and al...</td>\n",
       "      <td>[i, love, the, mcdougall, asian, entreacutees,...</td>\n",
       "      <td>[love, mcdougall, asian, entreacutees, althoug...</td>\n",
       "      <td>[love, mcdougall, asian, entreacutees, althoug...</td>\n",
       "      <td>527</td>\n",
       "      <td>2.5</td>\n",
       "      <td>4.6</td>\n",
       "      <td>love mcdougall asian entreacutees although hav...</td>\n",
       "      <td>[-0.17433834, -0.09895249, -0.3191918, 0.25030...</td>\n",
       "    </tr>\n",
       "    <tr>\n",
       "      <th>1451</th>\n",
       "      <td>1463</td>\n",
       "      <td>0.000</td>\n",
       "      <td>0.891</td>\n",
       "      <td>0.109</td>\n",
       "      <td>0.6588</td>\n",
       "      <td>0.002202</td>\n",
       "      <td>0.023052</td>\n",
       "      <td>0.974746</td>\n",
       "      <td>0.000</td>\n",
       "      <td>0.891</td>\n",
       "      <td>...</td>\n",
       "      <td>This is a very tasty item. My wife doesn't eat...</td>\n",
       "      <td>this is a very tasty item my wife doesnt eat m...</td>\n",
       "      <td>[this, is, a, very, tasty, item, my, wife, doe...</td>\n",
       "      <td>[tasty, item, wife, doesnt, eat, meat, staybr,...</td>\n",
       "      <td>[tasty, item, wife, doesnt, eat, meat, staybr,...</td>\n",
       "      <td>171</td>\n",
       "      <td>1.8</td>\n",
       "      <td>5.8</td>\n",
       "      <td>tasty item wife doesnt eat meat staybr hotel 4...</td>\n",
       "      <td>[-0.16694832, 0.017402533, -0.4623808, 0.03388...</td>\n",
       "    </tr>\n",
       "    <tr>\n",
       "      <th>1452</th>\n",
       "      <td>1464</td>\n",
       "      <td>0.000</td>\n",
       "      <td>0.749</td>\n",
       "      <td>0.251</td>\n",
       "      <td>0.9712</td>\n",
       "      <td>0.010373</td>\n",
       "      <td>0.067436</td>\n",
       "      <td>0.922191</td>\n",
       "      <td>0.000</td>\n",
       "      <td>0.749</td>\n",
       "      <td>...</td>\n",
       "      <td>Sure, I could have gone on a food crusade at t...</td>\n",
       "      <td>sure i could have gone on a food crusade at th...</td>\n",
       "      <td>[sure, i, could, have, gone, on, a, food, crus...</td>\n",
       "      <td>[sure, could, gone, food, crusade, local, groc...</td>\n",
       "      <td>[sure, could, gone, food, crusade, local, groc...</td>\n",
       "      <td>353</td>\n",
       "      <td>3.7</td>\n",
       "      <td>2.8</td>\n",
       "      <td>sure could gone food crusade local grocery fin...</td>\n",
       "      <td>[-0.14343074, 0.25583136, -0.62899315, 0.19796...</td>\n",
       "    </tr>\n",
       "    <tr>\n",
       "      <th>1453</th>\n",
       "      <td>1465</td>\n",
       "      <td>0.061</td>\n",
       "      <td>0.448</td>\n",
       "      <td>0.491</td>\n",
       "      <td>0.9369</td>\n",
       "      <td>0.006186</td>\n",
       "      <td>0.028779</td>\n",
       "      <td>0.965034</td>\n",
       "      <td>0.061</td>\n",
       "      <td>0.448</td>\n",
       "      <td>...</td>\n",
       "      <td>These are super tastey! I would definitely rec...</td>\n",
       "      <td>these are super tastey i would definitely reco...</td>\n",
       "      <td>[these, are, super, tastey, i, would, definite...</td>\n",
       "      <td>[super, tastey, would, definitely, recommend, ...</td>\n",
       "      <td>[super, tastey, would, definitely, recommend, ...</td>\n",
       "      <td>108</td>\n",
       "      <td>5.6</td>\n",
       "      <td>4.6</td>\n",
       "      <td>super tastey would definitely recommend reason...</td>\n",
       "      <td>[-0.46159828, 0.15569459, -0.7983387, 0.067234...</td>\n",
       "    </tr>\n",
       "  </tbody>\n",
       "</table>\n",
       "<p>5 rows × 23 columns</p>\n",
       "</div>"
      ],
      "text/plain": [
       "        Id  vader_neg  vader_neu  vader_pos  vader_compound  roberta_neg  \\\n",
       "1449  1461      0.000      0.899      0.101          0.5574     0.038705   \n",
       "1450  1462      0.000      0.827      0.173          0.9661     0.004531   \n",
       "1451  1463      0.000      0.891      0.109          0.6588     0.002202   \n",
       "1452  1464      0.000      0.749      0.251          0.9712     0.010373   \n",
       "1453  1465      0.061      0.448      0.491          0.9369     0.006186   \n",
       "\n",
       "      roberta_neu  roberta_pos    neg    neu  ...  \\\n",
       "1449     0.269752     0.691543  0.000  0.899  ...   \n",
       "1450     0.019198     0.976271  0.000  0.827  ...   \n",
       "1451     0.023052     0.974746  0.000  0.891  ...   \n",
       "1452     0.067436     0.922191  0.000  0.749  ...   \n",
       "1453     0.028779     0.965034  0.061  0.448  ...   \n",
       "\n",
       "                                                   Text  \\\n",
       "1449  <span class=\"tiny\"> Length:: 1:38 Mins<br /><b...   \n",
       "1450  I love the McDougall Asian Entr&eacute;es and ...   \n",
       "1451  This is a very tasty item. My wife doesn't eat...   \n",
       "1452  Sure, I could have gone on a food crusade at t...   \n",
       "1453  These are super tastey! I would definitely rec...   \n",
       "\n",
       "                                           nopunct_text  \\\n",
       "1449  span classtiny length 138 minsbr br spanskip t...   \n",
       "1450  i love the mcdougall asian entreacutees and al...   \n",
       "1451  this is a very tasty item my wife doesnt eat m...   \n",
       "1452  sure i could have gone on a food crusade at th...   \n",
       "1453  these are super tastey i would definitely reco...   \n",
       "\n",
       "                                         text_tokenized  \\\n",
       "1449  [span, classtiny, length, 138, minsbr, br, spa...   \n",
       "1450  [i, love, the, mcdougall, asian, entreacutees,...   \n",
       "1451  [this, is, a, very, tasty, item, my, wife, doe...   \n",
       "1452  [sure, i, could, have, gone, on, a, food, crus...   \n",
       "1453  [these, are, super, tastey, i, would, definite...   \n",
       "\n",
       "                        text_tokenized_without_stopword  \\\n",
       "1449  [span, classtiny, length, 138, minsbr, br, spa...   \n",
       "1450  [love, mcdougall, asian, entreacutees, althoug...   \n",
       "1451  [tasty, item, wife, doesnt, eat, meat, staybr,...   \n",
       "1452  [sure, could, gone, food, crusade, local, groc...   \n",
       "1453  [super, tastey, would, definitely, recommend, ...   \n",
       "\n",
       "                                        text_lemmetized body_len Cap% punct%  \\\n",
       "1449  [span, classtiny, length, 138, minsbr, br, spa...      255  5.9   13.3   \n",
       "1450  [love, mcdougall, asian, entreacutees, althoug...      527  2.5    4.6   \n",
       "1451  [tasty, item, wife, doesnt, eat, meat, staybr,...      171  1.8    5.8   \n",
       "1452  [sure, could, gone, food, crusade, local, groc...      353  3.7    2.8   \n",
       "1453  [super, tastey, would, definitely, recommend, ...      108  5.6    4.6   \n",
       "\n",
       "                                         lemmatized_str  \\\n",
       "1449  span classtiny length 138 minsbr br spanskip p...   \n",
       "1450  love mcdougall asian entreacutees although hav...   \n",
       "1451  tasty item wife doesnt eat meat staybr hotel 4...   \n",
       "1452  sure could gone food crusade local grocery fin...   \n",
       "1453  super tastey would definitely recommend reason...   \n",
       "\n",
       "                                        sentence_vector  \n",
       "1449  [-0.14590682, 0.10049686, -0.30775544, 0.09861...  \n",
       "1450  [-0.17433834, -0.09895249, -0.3191918, 0.25030...  \n",
       "1451  [-0.16694832, 0.017402533, -0.4623808, 0.03388...  \n",
       "1452  [-0.14343074, 0.25583136, -0.62899315, 0.19796...  \n",
       "1453  [-0.46159828, 0.15569459, -0.7983387, 0.067234...  \n",
       "\n",
       "[5 rows x 23 columns]"
      ]
     },
     "execution_count": 192,
     "metadata": {},
     "output_type": "execute_result"
    }
   ],
   "source": [
    "results_df.tail()"
   ]
  },
  {
   "cell_type": "code",
   "execution_count": 193,
   "id": "465fe0c2-05a1-41b8-8f81-4c79ea1ef729",
   "metadata": {},
   "outputs": [
    {
     "data": {
      "text/plain": [
       "Index(['Id', 'vader_neg', 'vader_neu', 'vader_pos', 'vader_compound',\n",
       "       'roberta_neg', 'roberta_neu', 'roberta_pos', 'neg', 'neu', 'pos',\n",
       "       'compound', 'Score', 'Text', 'nopunct_text', 'text_tokenized',\n",
       "       'text_tokenized_without_stopword', 'text_lemmetized', 'body_len',\n",
       "       'Cap%', 'punct%', 'lemmatized_str', 'sentence_vector'],\n",
       "      dtype='object')"
      ]
     },
     "execution_count": 193,
     "metadata": {},
     "output_type": "execute_result"
    }
   ],
   "source": [
    "results_df.columns"
   ]
  },
  {
   "cell_type": "code",
   "execution_count": 201,
   "id": "ee2bfd4b-de61-4655-92b5-a95c3d60dd0d",
   "metadata": {},
   "outputs": [
    {
     "data": {
      "text/plain": [
       "\"I just wanted to post here that I found small bits of plastic in this food as I was feeding my 9 month old.  Plastic!!! in food!!!! baby food!!!  So please be careful if you buy this or are considering it.<br /><br />My daughter LOVES this food-- it's actually her favorite.  This is the first time we have noticed plastic in it in over 2 months.\""
      ]
     },
     "execution_count": 201,
     "metadata": {},
     "output_type": "execute_result"
    }
   ],
   "source": [
    "results_df.query('Score == 1') \\\n",
    "    .sort_values('roberta_pos', ascending=False)['Text'].values[0]"
   ]
  },
  {
   "cell_type": "code",
   "execution_count": 202,
   "id": "41080bc3-3cf1-4048-bc09-166cd3374356",
   "metadata": {},
   "outputs": [
    {
     "data": {
      "text/plain": [
       "'So we cancelled the order.  It was cancelled without any problem.  That is a positive note...'"
      ]
     },
     "execution_count": 202,
     "metadata": {},
     "output_type": "execute_result"
    }
   ],
   "source": [
    "results_df.query('Score == 1') \\\n",
    "    .sort_values('vader_pos', ascending=False)['Text'].values[0]"
   ]
  },
  {
   "cell_type": "code",
   "execution_count": 196,
   "id": "4c7cbc31-4712-4513-b4e4-415256848fad",
   "metadata": {},
   "outputs": [
    {
     "data": {
      "text/plain": [
       "'this was sooooo deliscious but too bad i ate em too fast and gained 2 pds! my fault'"
      ]
     },
     "execution_count": 196,
     "metadata": {},
     "output_type": "execute_result"
    }
   ],
   "source": [
    "results_df.query('Score == 5') \\\n",
    "    .sort_values('roberta_neg', ascending=False)['Text'].values[0]"
   ]
  },
  {
   "cell_type": "code",
   "execution_count": 197,
   "id": "994878c6-9cb5-4749-a25d-bd1c0c652b03",
   "metadata": {},
   "outputs": [
    {
     "data": {
      "text/plain": [
       "'this was sooooo deliscious but too bad i ate em too fast and gained 2 pds! my fault'"
      ]
     },
     "execution_count": 197,
     "metadata": {},
     "output_type": "execute_result"
    }
   ],
   "source": [
    "results_df.query('Score == 5') \\\n",
    "    .sort_values('vader_neg', ascending=False)['Text'].values[0]"
   ]
  },
  {
   "cell_type": "code",
   "execution_count": null,
   "id": "a5f6048c-7387-4bea-9080-cd601141bdb0",
   "metadata": {},
   "outputs": [],
   "source": []
  },
  {
   "cell_type": "markdown",
   "id": "1619598e-7ed7-4bad-b5ed-811adb196a95",
   "metadata": {},
   "source": [
    "## Extra: The Transformers Pipeline\n",
    "- Quick & easy way to run sentiment predictions"
   ]
  },
  {
   "cell_type": "code",
   "execution_count": 49,
   "id": "56911129-32c6-4f20-8da3-6d75de0d1d8c",
   "metadata": {},
   "outputs": [],
   "source": [
    "from transformers  import pipeline"
   ]
  },
  {
   "cell_type": "code",
   "execution_count": 50,
   "id": "2deba351-7590-455f-9f6c-9c22c580273e",
   "metadata": {},
   "outputs": [
    {
     "name": "stderr",
     "output_type": "stream",
     "text": [
      "No model was supplied, defaulted to distilbert/distilbert-base-uncased-finetuned-sst-2-english and revision 714eb0f (https://huggingface.co/distilbert/distilbert-base-uncased-finetuned-sst-2-english).\n",
      "Using a pipeline without specifying a model name and revision in production is not recommended.\n"
     ]
    },
    {
     "name": "stdout",
     "output_type": "stream",
     "text": [
      "WARNING:tensorflow:From C:\\Users\\abdel\\anaconda\\Lib\\site-packages\\tf_keras\\src\\losses.py:2976: The name tf.losses.sparse_softmax_cross_entropy is deprecated. Please use tf.compat.v1.losses.sparse_softmax_cross_entropy instead.\n",
      "\n"
     ]
    },
    {
     "name": "stderr",
     "output_type": "stream",
     "text": [
      "C:\\Users\\abdel\\anaconda\\Lib\\site-packages\\transformers\\tokenization_utils_base.py:1617: FutureWarning: `clean_up_tokenization_spaces` was not set. It will be set to `True` by default. This behavior will be deprecated in transformers v4.45, and will be then set to `False` by default. For more details check this issue: https://github.com/huggingface/transformers/issues/31884\n",
      "  warnings.warn(\n"
     ]
    }
   ],
   "source": [
    "sent_pipeline = pipeline(\"sentiment-analysis\")"
   ]
  },
  {
   "cell_type": "code",
   "execution_count": 59,
   "id": "45021a09-6326-4187-bdaa-2ecb5319f499",
   "metadata": {},
   "outputs": [
    {
     "data": {
      "text/plain": [
       "[{'label': 'POSITIVE', 'score': 0.9996060729026794}]"
      ]
     },
     "execution_count": 59,
     "metadata": {},
     "output_type": "execute_result"
    }
   ],
   "source": [
    "sent_pipeline('I like this Pizza!')"
   ]
  },
  {
   "cell_type": "code",
   "execution_count": 63,
   "id": "54a870fe-f6c0-405a-a0d0-bdfb34fb9239",
   "metadata": {},
   "outputs": [
    {
     "data": {
      "text/plain": [
       "[{'label': 'NEGATIVE', 'score': 0.999508261680603}]"
      ]
     },
     "execution_count": 63,
     "metadata": {},
     "output_type": "execute_result"
    }
   ],
   "source": [
    "sent_pipeline('I\\'m not sure how I feel about this!')"
   ]
  },
  {
   "cell_type": "code",
   "execution_count": null,
   "id": "e5a44330-8f60-4e94-8422-88b09316ec5f",
   "metadata": {},
   "outputs": [],
   "source": []
  },
  {
   "cell_type": "markdown",
   "id": "9910fffe-11bf-49ce-b778-2414f2553f6c",
   "metadata": {},
   "source": [
    "# BERT \n",
    "- Quick & easy way to run sentiment predictions"
   ]
  },
  {
   "cell_type": "code",
   "execution_count": 7,
   "id": "53c9017a-cc0e-4571-97d5-066483efdfaa",
   "metadata": {},
   "outputs": [],
   "source": [
    "from transformers import AutoTokenizer, AutoModelForSequenceClassification\n",
    "import torch\n",
    "import requests\n",
    "import re"
   ]
  },
  {
   "cell_type": "code",
   "execution_count": 8,
   "id": "4d812831-6536-43ae-b801-1b957c5b4262",
   "metadata": {},
   "outputs": [
    {
     "name": "stderr",
     "output_type": "stream",
     "text": [
      "C:\\Users\\abdel\\anaconda\\Lib\\site-packages\\transformers\\tokenization_utils_base.py:1617: FutureWarning: `clean_up_tokenization_spaces` was not set. It will be set to `True` by default. This behavior will be deprecated in transformers v4.45, and will be then set to `False` by default. For more details check this issue: https://github.com/huggingface/transformers/issues/31884\n",
      "  warnings.warn(\n"
     ]
    }
   ],
   "source": [
    "tokenizer = AutoTokenizer.from_pretrained('nlptown/bert-base-multilingual-uncased-sentiment')\n",
    "\n",
    "model = AutoModelForSequenceClassification.from_pretrained('nlptown/bert-base-multilingual-uncased-sentiment')"
   ]
  },
  {
   "cell_type": "code",
   "execution_count": 206,
   "id": "a5f4eede-0895-4592-a959-a2e189032ba8",
   "metadata": {},
   "outputs": [],
   "source": [
    "tokens = tokenizer.encode('It was good but couldve been better. Great', return_tensors='pt')"
   ]
  },
  {
   "cell_type": "code",
   "execution_count": 207,
   "id": "e336ec5e-9edc-4508-8a4d-2aeb6bb901b6",
   "metadata": {},
   "outputs": [],
   "source": [
    "result = model(tokens)"
   ]
  },
  {
   "cell_type": "code",
   "execution_count": 208,
   "id": "1006aa0c-6056-46a2-8b6e-b775ef563b85",
   "metadata": {},
   "outputs": [
    {
     "data": {
      "text/plain": [
       "tensor([[-2.7768, -1.2353,  1.4419,  1.9804,  0.4584]],\n",
       "       grad_fn=<AddmmBackward0>)"
      ]
     },
     "execution_count": 208,
     "metadata": {},
     "output_type": "execute_result"
    }
   ],
   "source": [
    "result.logits"
   ]
  },
  {
   "cell_type": "code",
   "execution_count": 209,
   "id": "fa8a0b0d-7809-415f-af4d-c3e1c100dfed",
   "metadata": {},
   "outputs": [
    {
     "data": {
      "text/plain": [
       "4"
      ]
     },
     "execution_count": 209,
     "metadata": {},
     "output_type": "execute_result"
    }
   ],
   "source": [
    "int(torch.argmax(result.logits))+1"
   ]
  },
  {
   "cell_type": "code",
   "execution_count": null,
   "id": "f58aff11-da31-4a55-b390-8c7209d4e9a1",
   "metadata": {},
   "outputs": [],
   "source": []
  },
  {
   "cell_type": "code",
   "execution_count": null,
   "id": "5e35617c-3ad0-4637-843d-10d482463093",
   "metadata": {},
   "outputs": [],
   "source": []
  },
  {
   "cell_type": "code",
   "execution_count": null,
   "id": "61669b55-edfe-41cb-90d7-92d1560b3810",
   "metadata": {},
   "outputs": [],
   "source": []
  },
  {
   "cell_type": "code",
   "execution_count": null,
   "id": "07c2fd63-0532-4890-9d17-d62260b6c1e9",
   "metadata": {},
   "outputs": [],
   "source": []
  },
  {
   "cell_type": "code",
   "execution_count": null,
   "id": "ae1e2bef-bdf3-4bf8-9b06-94f12b9cb15b",
   "metadata": {},
   "outputs": [],
   "source": []
  },
  {
   "cell_type": "code",
   "execution_count": null,
   "id": "0a864229-3d42-4fec-a78c-e6782234d191",
   "metadata": {},
   "outputs": [],
   "source": []
  },
  {
   "cell_type": "code",
   "execution_count": null,
   "id": "ce18b4dd-4646-417c-80da-ede253e00b1a",
   "metadata": {},
   "outputs": [],
   "source": []
  }
 ],
 "metadata": {
  "kernelspec": {
   "display_name": "base",
   "language": "python",
   "name": "python3"
  },
  "language_info": {
   "codemirror_mode": {
    "name": "ipython",
    "version": 3
   },
   "file_extension": ".py",
   "mimetype": "text/x-python",
   "name": "python",
   "nbconvert_exporter": "python",
   "pygments_lexer": "ipython3",
   "version": "3.12.4"
  }
 },
 "nbformat": 4,
 "nbformat_minor": 5
}
